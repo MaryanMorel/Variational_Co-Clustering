{
 "metadata": {
  "name": "",
  "signature": "sha256:2432a2665cd189ce685e9c3645329cbef2fb6ec4e738b609f4b3c0b3a2deb95c"
 },
 "nbformat": 3,
 "nbformat_minor": 0,
 "worksheets": [
  {
   "cells": [
    {
     "cell_type": "code",
     "collapsed": false,
     "input": [
      "import MatrixGenerator as mg\n",
      "import numpy as np\n",
      "from sklearn.preprocessing import LabelBinarizer\n",
      "import class_coclustering as CC\n",
      "import imp\n",
      "\n",
      "import numpy as np\n",
      "from sklearn.cluster import KMeans"
     ],
     "language": "python",
     "metadata": {},
     "outputs": [],
     "prompt_number": 31
    },
    {
     "cell_type": "code",
     "collapsed": false,
     "input": [
      "mg = imp.reload(mg)\n",
      "import matplotlib.pyplot as plt\n",
      "%matplotlib inline\n",
      "\n",
      "nrows = 50 \n",
      "ncols = 16\n",
      "nC = 4\n",
      "nD = 3\n",
      "\n",
      "(C_true,D_true,data) = mg.sampleMatrix(nrows, ncols, nC, nD, random_state=3)\n",
      "\n",
      "C_true = [np.sort(item) for item in C_true]\n",
      "D_true = [np.sort(item) for item in D_true]\n",
      "\n",
      "C_true.sort(key=lambda t: len(t), reverse=True)\n",
      "D_true.sort(key=lambda t: len(t), reverse=True)\n",
      "\n",
      "C_index = [item for sublist in C_true for item in sublist]\n",
      "D_index = [item for sublist in D_true for item in sublist]\n",
      "ordered_data = data[C_index,:]\n",
      "ordered_data = ordered_data[:, D_index]\n",
      "\n",
      "plt.pcolor(data)\n",
      "plt.show()\n",
      "plt.pcolor(ordered_data)\n",
      "plt.show()"
     ],
     "language": "python",
     "metadata": {},
     "outputs": [
      {
       "metadata": {},
       "output_type": "display_data",
       "png": "[encoded data removed]",
       "text": [
        "<matplotlib.figure.Figure at 0x11314a2e8>"
       ]
      },
      {
       "metadata": {},
       "output_type": "display_data",
       "png": "[encoded data removed]",
       "text": [
        "<matplotlib.figure.Figure at 0x113f59668>"
       ]
      }
     ],
     "prompt_number": 32
    },
    {
     "cell_type": "code",
     "collapsed": false,
     "input": [
      "CC = imp.reload(CC)\n",
      "clf = CC.coClusteringAdjacency(data=data, K=nC, L=nD, maxIter=1000, tol=1e-10, random_state=5) #5\n",
      "clf.fit()\n",
      "print(clf.getLikelihood())\n",
      "C_pred, D_pred = clf.getClusters()"
     ],
     "language": "python",
     "metadata": {},
     "outputs": [
      {
       "output_type": "stream",
       "stream": "stdout",
       "text": [
        "The algorithm has converged in 95 iterations\n",
        "8.63187884042\n"
       ]
      }
     ],
     "prompt_number": 100
    },
    {
     "cell_type": "code",
     "collapsed": false,
     "input": [
      "clf = CC.coClusteringAdjacency(data=data, K=nC, L=nD, maxIter=1000, tol=1e-15, random_state=1)\n",
      "clf.fit()\n",
      "clf.getLikelihood() # Wtf : poor fit, good likelihood"
     ],
     "language": "python",
     "metadata": {},
     "outputs": [
      {
       "output_type": "stream",
       "stream": "stdout",
       "text": [
        "The algorithm has converged in 7 iterations\n"
       ]
      },
      {
       "metadata": {},
       "output_type": "pyout",
       "prompt_number": 91,
       "text": [
        "16.800000000000004"
       ]
      }
     ],
     "prompt_number": 91
    },
    {
     "cell_type": "code",
     "collapsed": false,
     "input": [
      "for item in clf.phi "
     ],
     "language": "python",
     "metadata": {},
     "outputs": [
      {
       "metadata": {},
       "output_type": "pyout",
       "prompt_number": 101,
       "text": [
        "array([[ 0.00619261,  0.01332027,  0.05208231],\n",
        "       [ 0.00429229,  0.03187688,  0.00111863],\n",
        "       [ 0.05468178,  0.0052988 ,  0.00261082],\n",
        "       [ 0.00619106,  0.01332057,  0.05208376]])"
       ]
      }
     ],
     "prompt_number": 101
    },
    {
     "cell_type": "code",
     "collapsed": false,
     "input": [
      "np.max(clf.phi, axis=1)"
     ],
     "language": "python",
     "metadata": {},
     "outputs": [
      {
       "metadata": {},
       "output_type": "pyout",
       "prompt_number": 102,
       "text": [
        "array([ 0.05208231,  0.03187688,  0.05468178,  0.05208376])"
       ]
      }
     ],
     "prompt_number": 102
    },
    {
     "cell_type": "code",
     "collapsed": false,
     "input": [
      "resMat = np.zeros((clf.N, clf.M))\n",
      "C_pred, D_pred = clf.getClusters()\n",
      "C_true.sort(key=lambda t: len(t), reverse=True)\n",
      "D_true.sort(key=lambda t: len(t), reverse=True)\n",
      "C_pred = [np.sort(np.where(C_pred == i)[0]) for i in np.unique(C_pred)]\n",
      "D_pred = [np.sort(np.where(D_pred == i)[0]) for i in np.unique(D_pred)]\n",
      "#for i, a in enumerate(clf.getClusterAssociation()[0]):\n",
      "for i, a in enumerate(np.array([2, 1, 0])):   \n",
      "    try:\n",
      "        for x in C_pred[i]:\n",
      "            for y in D_pred[a]:\n",
      "                resMat[x,y] = 1\n",
      "    except:\n",
      "        e = 1"
     ],
     "language": "python",
     "metadata": {},
     "outputs": [],
     "prompt_number": 103
    },
    {
     "cell_type": "code",
     "collapsed": false,
     "input": [
      "plt.pcolor(data)\n",
      "plt.show()\n",
      "\n",
      "plt.pcolor(resMat)\n",
      "plt.show()"
     ],
     "language": "python",
     "metadata": {},
     "outputs": [
      {
       "metadata": {},
       "output_type": "display_data",
       "png": "[encoded data removed]",
       "text": [
        "<matplotlib.figure.Figure at 0x113dea748>"
       ]
      },
      {
       "metadata": {},
       "output_type": "display_data",
       "png": "[encoded data removed]",
       "text": [
        "<matplotlib.figure.Figure at 0x1142bfac8>"
       ]
      }
     ],
     "prompt_number": 104
    },
    {
     "cell_type": "code",
     "collapsed": false,
     "input": [
      "C_pred.sort(key=lambda t: len(t), reverse=True)\n",
      "D_pred.sort(key=lambda t: len(t), reverse=True)\n",
      "C_index_pred = [item for sublist in C_pred for item in sublist]\n",
      "D_index_pred = [item for sublist in D_pred for item in sublist]"
     ],
     "language": "python",
     "metadata": {},
     "outputs": [],
     "prompt_number": 105
    },
    {
     "cell_type": "code",
     "collapsed": false,
     "input": [
      "ordered_pred = data[C_index_pred,:]\n",
      "ordered_pred = ordered_pred[:, D_index_pred]\n",
      "\n",
      "plt.pcolor(ordered_data)\n",
      "plt.show()\n",
      "plt.pcolor(ordered_pred)\n",
      "plt.show()"
     ],
     "language": "python",
     "metadata": {},
     "outputs": [
      {
       "metadata": {},
       "output_type": "display_data",
       "png": "[encoded data removed]",
       "text": [
        "<matplotlib.figure.Figure at 0x113eae080>"
       ]
      },
      {
       "metadata": {},
       "output_type": "display_data",
       "png": "[encoded data removed]",
       "text": [
        "<matplotlib.figure.Figure at 0x113e6a4e0>"
       ]
      }
     ],
     "prompt_number": 106
    },
    {
     "cell_type": "code",
     "collapsed": false,
     "input": [
      "ordered_pred = resMat[C_index_pred,:]\n",
      "ordered_pred = ordered_pred[:, D_index_pred]\n",
      "\n",
      "plt.pcolor(ordered_data)\n",
      "plt.show()\n",
      "plt.pcolor(ordered_pred)\n",
      "plt.show()"
     ],
     "language": "python",
     "metadata": {},
     "outputs": [
      {
       "metadata": {},
       "output_type": "display_data",
       "png": "[encoded data removed]",
       "text": [
        "<matplotlib.figure.Figure at 0x114148cc0>"
       ]
      },
      {
       "metadata": {},
       "output_type": "display_data",
       "png": "[encoded data removed]",
       "text": [
        "<matplotlib.figure.Figure at 0x114340160>"
       ]
      }
     ],
     "prompt_number": 107
    },
    {
     "cell_type": "code",
     "collapsed": false,
     "input": [],
     "language": "python",
     "metadata": {},
     "outputs": [],
     "prompt_number": 30
    },
    {
     "cell_type": "code",
     "collapsed": false,
     "input": [],
     "language": "python",
     "metadata": {},
     "outputs": []
    }
   ],
   "metadata": {}
  }
 ]
}