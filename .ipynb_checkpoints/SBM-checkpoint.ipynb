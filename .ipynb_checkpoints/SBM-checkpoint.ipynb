{
 "metadata": {
  "name": "",
  "signature": "sha256:b91225f90cd3785e8962c76323f70128c6556a6f6af1e23d0f30bdf6ec3f1d9d"
 },
 "nbformat": 3,
 "nbformat_minor": 0,
 "worksheets": [
  {
   "cells": [
    {
     "cell_type": "code",
     "collapsed": false,
     "input": [
      "import MatrixGenerator as mg\n",
      "import numpy as np\n",
      "from sklearn.preprocessing import LabelBinarizer, label_binarize\n",
      "import class_coclustering as CC\n",
      "import imp\n",
      "\n",
      "import numpy as np\n",
      "from sklearn.cluster import KMeans"
     ],
     "language": "python",
     "metadata": {},
     "outputs": [],
     "prompt_number": 111
    },
    {
     "cell_type": "code",
     "collapsed": false,
     "input": [
      "mg = imp.reload(mg)\n",
      "import matplotlib.pyplot as plt\n",
      "%matplotlib inline\n",
      "\n",
      "nrows = 20\n",
      "ncols = 10\n",
      "nC = 3\n",
      "nD = 2\n",
      "\n",
      "(C_true,D_true,data) = mg.sampleMatrix(nrows, ncols, nC, nD, random_state=3)\n",
      "\n",
      "C_true = [np.sort(item) for item in C_true]\n",
      "D_true = [np.sort(item) for item in D_true]\n",
      "\n",
      "data[C_true[2],:] = -data[C_true[2],:]\n",
      "\n",
      "C_true.sort(key=lambda t: len(t), reverse=True)\n",
      "D_true.sort(key=lambda t: len(t), reverse=True)\n",
      "\n",
      "C_index = [item for sublist in C_true for item in sublist]\n",
      "D_index = [item for sublist in D_true for item in sublist]\n",
      "ordered_data = data[C_index,:]\n",
      "ordered_data = ordered_data[:, D_index]\n",
      "\n",
      "plt.pcolor(data)\n",
      "plt.show()\n",
      "plt.pcolor(ordered_data)\n",
      "plt.show()"
     ],
     "language": "python",
     "metadata": {},
     "outputs": [
      {
       "metadata": {},
       "output_type": "display_data",
       "png": "[encoded data removed]",
       "text": [
        "<matplotlib.figure.Figure at 0x116ed2f28>"
       ]
      },
      {
       "metadata": {},
       "output_type": "display_data",
       "png": "[encoded data removed]",
       "text": [
        "<matplotlib.figure.Figure at 0x116d962b0>"
       ]
      }
     ],
     "prompt_number": 42
    },
    {
     "cell_type": "code",
     "collapsed": false,
     "input": [
      "tol = 1e-3\n",
      "nbIter = 0\n",
      "maxIter = 10\n",
      "(N, M) = data.shape\n",
      "## count marginal\n",
      "K = 3\n",
      "L = 2\n",
      "random_state = 3"
     ],
     "language": "python",
     "metadata": {},
     "outputs": [],
     "prompt_number": 230
    },
    {
     "cell_type": "code",
     "collapsed": false,
     "input": [
      "initClusters = KMeans(n_clusters=K, random_state=random_state)\n",
      "C = initClusters.fit_predict(dataS)\n",
      "## init clusters for Y with kmeans\n",
      "initClusters.n_clusters=L\n",
      "D = initClusters.fit_predict(dataS.T)"
     ],
     "language": "python",
     "metadata": {},
     "outputs": [],
     "prompt_number": 231
    },
    {
     "cell_type": "code",
     "collapsed": false,
     "input": [
      "binarizer = LabelBinarizer()\n",
      "Q_xc = binarizer.fit_transform(C)\n",
      "Q_yd = binarizer.fit_transform(D)\n",
      "Q_yd = np.hstack((Q_yd, 1 - Q_yd)) #as we have only two classes"
     ],
     "language": "python",
     "metadata": {},
     "outputs": [],
     "prompt_number": 232
    },
    {
     "cell_type": "code",
     "collapsed": false,
     "input": [
      "P_c = np.sum(Q_xc, axis=0) / N\n",
      "P_d = np.sum(Q_yd, axis=0) / M"
     ],
     "language": "python",
     "metadata": {},
     "outputs": [],
     "prompt_number": 233
    },
    {
     "cell_type": "code",
     "collapsed": false,
     "input": [
      "p_phi = np.zeros((N,M,K,L))\n",
      "for j in range(M):\n",
      "\tfor c in range(K):\n",
      "\t\tp_phi[:,j,c,:] = np.dot(Q_xc[:,c].reshape(N, 1), Q_yd[j,:].reshape(1, L))"
     ],
     "language": "python",
     "metadata": {},
     "outputs": [],
     "prompt_number": 234
    },
    {
     "cell_type": "code",
     "collapsed": false,
     "input": [
      "P_v_cd = np.zeros((2,K,L))\n",
      "from scipy.sparse import coo_matrix\n",
      "dataS = coo_matrix(data)\n",
      "denom = 0\n",
      "for i,j,v in zip(dataS.row, dataS.col, dataS.data):\n",
      "    if(v == 1):\n",
      "        P_v_cd[1,:,:] += p_phi[i,j,:,:]\n",
      "    if(v == -1):\n",
      "        P_v_cd[0,:,:] += p_phi[i,j,:,:]\n",
      "    denom += p_phi[i,j,:,:]"
     ],
     "language": "python",
     "metadata": {},
     "outputs": [],
     "prompt_number": 235
    },
    {
     "cell_type": "code",
     "collapsed": false,
     "input": [
      "P_v_cd[1,:,:] = P_v_cd[1,:,:] / denom + 1e-50\n",
      "P_v_cd[0,:,:] = P_v_cd[0,:,:] / denom + 1e-50"
     ],
     "language": "python",
     "metadata": {},
     "outputs": [],
     "prompt_number": 236
    },
    {
     "cell_type": "markdown",
     "metadata": {},
     "source": [
      "#LOOP"
     ]
    },
    {
     "cell_type": "code",
     "collapsed": false,
     "input": [
      "Q_xc = P_c * np.exp((dataS==1).dot(Q_yd.dot(np.log(P_v_cd[1,:,:].T))) + (dataS==-1).dot(Q_yd.dot(np.log(P_v_cd[0,:,:].T))))\n",
      "Q_yd = P_d * np.exp((dataS==1).T.dot(Q_xc.dot(np.log(P_v_cd[1,:,:]))) + (dataS==-1).T.dot(Q_xc.dot(np.log(P_v_cd[0,:,:]))))"
     ],
     "language": "python",
     "metadata": {},
     "outputs": [],
     "prompt_number": 229
    },
    {
     "cell_type": "code",
     "collapsed": false,
     "input": [
      "i = 0\n",
      "j = 4\n",
      "v = 1"
     ],
     "language": "python",
     "metadata": {},
     "outputs": [],
     "prompt_number": 174
    },
    {
     "cell_type": "code",
     "collapsed": false,
     "input": [
      "I = (v == 1)\n",
      "int(I)"
     ],
     "language": "python",
     "metadata": {},
     "outputs": [
      {
       "metadata": {},
       "output_type": "pyout",
       "prompt_number": 176,
       "text": [
        "1"
       ]
      }
     ],
     "prompt_number": 176
    },
    {
     "cell_type": "code",
     "collapsed": false,
     "input": [
      "(1-I)*np.log(P_v_cd[(1-I),:,:]).dot(Q_yd[j,:].T)"
     ],
     "language": "python",
     "metadata": {},
     "outputs": [
      {
       "metadata": {},
       "output_type": "pyout",
       "prompt_number": 177,
       "text": [
        "array([-0.,  0., -0.])"
       ]
      }
     ],
     "prompt_number": 177
    },
    {
     "cell_type": "code",
     "collapsed": false,
     "input": [
      "P_d"
     ],
     "language": "python",
     "metadata": {},
     "outputs": [
      {
       "metadata": {},
       "output_type": "pyout",
       "prompt_number": 239,
       "text": [
        "array([ 0.3,  0.7])"
       ]
      }
     ],
     "prompt_number": 239
    },
    {
     "cell_type": "code",
     "collapsed": false,
     "input": [
      "P_d * np.exp((dataS==1).T.dot(Q_xc.dot(np.log(P_v_cd[1,:,:]))) + (dataS==-1).T.dot(Q_xc.dot(np.log(P_v_cd[0,:,:]))))"
     ],
     "language": "python",
     "metadata": {},
     "outputs": [
      {
       "metadata": {},
       "output_type": "pyout",
       "prompt_number": 247,
       "text": [
        "array([[ 0.3,  0.7],\n",
        "       [ 0.3,  0.7],\n",
        "       [ 0.3,  0.7],\n",
        "       [ 0.3,  0.7],\n",
        "       [ 0.3,  0.7],\n",
        "       [ 0.3,  0.7],\n",
        "       [ 0.3,  0.7],\n",
        "       [ 0.3,  0.7],\n",
        "       [ 0.3,  0.7],\n",
        "       [ 0.3,  0.7]])"
       ]
      }
     ],
     "prompt_number": 247
    },
    {
     "cell_type": "code",
     "collapsed": false,
     "input": [
      "print((dataS==1).shape, (Q_xc.dot(np.log(P_v_cd[1,:,:]))).shape) "
     ],
     "language": "python",
     "metadata": {},
     "outputs": [
      {
       "output_type": "stream",
       "stream": "stdout",
       "text": [
        "(20, 10) (20, 2)\n"
       ]
      }
     ],
     "prompt_number": 246
    },
    {
     "cell_type": "code",
     "collapsed": false,
     "input": [
      "Q_yd"
     ],
     "language": "python",
     "metadata": {},
     "outputs": [
      {
       "metadata": {},
       "output_type": "pyout",
       "prompt_number": 238,
       "text": [
        "array([[0, 1],\n",
        "       [0, 1],\n",
        "       [0, 1],\n",
        "       [0, 1],\n",
        "       [1, 0],\n",
        "       [0, 1],\n",
        "       [1, 0],\n",
        "       [1, 0],\n",
        "       [0, 1],\n",
        "       [0, 1]])"
       ]
      }
     ],
     "prompt_number": 238
    },
    {
     "cell_type": "code",
     "collapsed": false,
     "input": [],
     "language": "python",
     "metadata": {},
     "outputs": []
    }
   ],
   "metadata": {}
  }
 ]
}