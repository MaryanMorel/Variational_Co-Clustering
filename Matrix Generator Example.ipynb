{
 "metadata": {
  "name": "",
  "signature": "sha256:e070a186d33a0226123585dceb7aa5768032c008c20ce718c395f57564bd49b4"
 },
 "nbformat": 3,
 "nbformat_minor": 0,
 "worksheets": [
  {
   "cells": [
    {
     "cell_type": "code",
     "collapsed": false,
     "input": [
      "import MatrixGenerator as mg\n",
      "\n",
      "nrows = 100 \n",
      "ncols = 20\n",
      "nC = 8\n",
      "nD = 4\n",
      "\n",
      "(C,D,M) = mg.sampleMatrix(nrows, ncols, nC, nD)"
     ],
     "language": "python",
     "metadata": {},
     "outputs": [],
     "prompt_number": 1
    },
    {
     "cell_type": "code",
     "collapsed": false,
     "input": [
      "#import matplotlib.pyplot as plt\n",
      "#%matplotlib inline\n",
      "#for i in range(nC):\n",
      " #   plt.pcolor(M[C[i],:])\n",
      " #   plt.show()"
     ],
     "language": "python",
     "metadata": {},
     "outputs": [],
     "prompt_number": 1
    },
    {
     "cell_type": "code",
     "collapsed": false,
     "input": [
      "import class_coclustering as CC\n"
     ],
     "language": "python",
     "metadata": {},
     "outputs": [],
     "prompt_number": 47
    },
    {
     "cell_type": "code",
     "collapsed": false,
     "input": [
      "import imp\n",
      "imp.reload(CC)\n",
      "\n",
      "clf = CC.coClusteringAdjacency(data=M, K=8, L=4, maxIter=1000)\n",
      "clf.fit()"
     ],
     "language": "python",
     "metadata": {},
     "outputs": [
      {
       "output_type": "stream",
       "stream": "stdout",
       "text": [
        "1.0\n",
        "1.0\n",
        "1.0\n",
        "1.0\n",
        "1.0\n",
        "1.0\n",
        "1.0\n",
        "1.0\n",
        "1.0\n",
        "1.0\n",
        "1.0"
       ]
      },
      {
       "output_type": "stream",
       "stream": "stdout",
       "text": [
        "\n",
        "1.0\n",
        "1.0\n",
        "1.0\n",
        "1.0\n",
        "1.0\n",
        "1.0\n",
        "1.0\n",
        "1.0"
       ]
      },
      {
       "output_type": "stream",
       "stream": "stdout",
       "text": [
        "\n",
        "1.0\n",
        "1.0\n",
        "1.0\n",
        "1.0\n",
        "1.0\n",
        "1.0\n",
        "1.0\n",
        "1.0\n",
        "1.0\n",
        "1.0"
       ]
      },
      {
       "output_type": "stream",
       "stream": "stdout",
       "text": [
        "\n",
        "0.0\n",
        "nan\n",
        "nan\n",
        "nan\n",
        "nan\n",
        "nan\n",
        "nan\n",
        "nan\n",
        "nan\n",
        "nan"
       ]
      },
      {
       "output_type": "stream",
       "stream": "stdout",
       "text": [
        "\n",
        "nan\n",
        "nan\n",
        "nan\n",
        "nan\n",
        "nan\n",
        "nan\n",
        "nan\n",
        "nan\n",
        "nan\n",
        "nan"
       ]
      },
      {
       "output_type": "stream",
       "stream": "stdout",
       "text": [
        "\n",
        "nan\n",
        "nan\n",
        "nan\n",
        "nan\n",
        "nan\n",
        "nan\n",
        "nan\n",
        "nan\n",
        "nan\n",
        "nan"
       ]
      },
      {
       "output_type": "stream",
       "stream": "stdout",
       "text": [
        "\n",
        "nan\n",
        "nan\n",
        "nan\n",
        "nan\n",
        "nan\n",
        "nan\n",
        "nan\n",
        "nan"
       ]
      },
      {
       "output_type": "stream",
       "stream": "stdout",
       "text": [
        "\n",
        "nan\n",
        "nan\n",
        "nan\n",
        "nan\n",
        "nan\n",
        "nan\n",
        "nan\n",
        "nan\n",
        "nan"
       ]
      },
      {
       "output_type": "stream",
       "stream": "stdout",
       "text": [
        "\n",
        "nan\n",
        "nan\n",
        "nan\n",
        "nan\n",
        "nan\n",
        "nan\n",
        "nan\n",
        "nan\n",
        "nan"
       ]
      },
      {
       "output_type": "stream",
       "stream": "stdout",
       "text": [
        "\n",
        "nan\n",
        "nan\n",
        "nan\n",
        "nan\n",
        "nan\n",
        "nan\n",
        "nan\n",
        "nan\n",
        "nan\n",
        "nan"
       ]
      },
      {
       "output_type": "stream",
       "stream": "stdout",
       "text": [
        "\n",
        "nan\n",
        "nan\n",
        "nan\n",
        "nan\n",
        "nan\n",
        "nan\n",
        "nan\n",
        "nan\n",
        "nan"
       ]
      },
      {
       "output_type": "stream",
       "stream": "stdout",
       "text": [
        "\n",
        "nan\n",
        "nan\n",
        "nan\n",
        "nan\n",
        "nan\n",
        "nan\n",
        "nan\n",
        "nan\n",
        "nan\n",
        "nan"
       ]
      },
      {
       "output_type": "stream",
       "stream": "stdout",
       "text": [
        "\n",
        "nan\n",
        "nan\n",
        "nan\n",
        "nan\n",
        "nan\n",
        "nan\n",
        "nan\n",
        "nan\n",
        "nan\n",
        "nan"
       ]
      },
      {
       "output_type": "stream",
       "stream": "stdout",
       "text": [
        "\n",
        "nan\n",
        "nan\n",
        "nan\n",
        "nan\n",
        "nan\n",
        "nan\n",
        "nan\n",
        "nan\n",
        "nan\n",
        "nan"
       ]
      },
      {
       "output_type": "stream",
       "stream": "stdout",
       "text": [
        "\n",
        "nan\n",
        "nan\n",
        "nan\n",
        "nan\n",
        "nan\n",
        "nan\n",
        "nan\n",
        "nan\n",
        "nan\n",
        "nan"
       ]
      },
      {
       "output_type": "stream",
       "stream": "stdout",
       "text": [
        "\n",
        "nan\n",
        "nan\n",
        "nan\n",
        "nan\n",
        "nan\n",
        "nan\n",
        "nan\n",
        "nan"
       ]
      },
      {
       "output_type": "stream",
       "stream": "stdout",
       "text": [
        "\n",
        "nan\n",
        "nan\n",
        "nan\n",
        "nan\n",
        "nan\n",
        "nan\n",
        "nan\n",
        "nan"
       ]
      },
      {
       "output_type": "stream",
       "stream": "stdout",
       "text": [
        "\n",
        "nan\n",
        "nan\n",
        "nan\n",
        "nan\n",
        "nan\n",
        "nan\n",
        "nan\n",
        "nan\n",
        "nan"
       ]
      },
      {
       "output_type": "stream",
       "stream": "stdout",
       "text": [
        "\n",
        "nan\n",
        "nan\n",
        "nan\n",
        "nan\n",
        "nan\n",
        "nan\n",
        "nan"
       ]
      },
      {
       "output_type": "stream",
       "stream": "stdout",
       "text": [
        "\n",
        "nan\n",
        "nan\n",
        "nan\n",
        "nan\n",
        "nan\n",
        "nan\n",
        "nan\n",
        "nan"
       ]
      },
      {
       "output_type": "stream",
       "stream": "stdout",
       "text": [
        "\n",
        "nan\n",
        "nan\n",
        "nan\n",
        "nan\n",
        "nan\n",
        "nan\n",
        "nan\n",
        "nan"
       ]
      },
      {
       "output_type": "stream",
       "stream": "stdout",
       "text": [
        "\n",
        "nan\n",
        "nan\n",
        "nan\n",
        "nan\n",
        "nan\n",
        "nan\n",
        "nan"
       ]
      },
      {
       "output_type": "stream",
       "stream": "stdout",
       "text": [
        "\n",
        "nan\n",
        "nan\n",
        "nan\n",
        "nan\n",
        "nan\n",
        "nan\n",
        "nan\n",
        "nan"
       ]
      },
      {
       "output_type": "stream",
       "stream": "stdout",
       "text": [
        "\n",
        "nan\n",
        "nan\n",
        "nan\n",
        "nan\n",
        "nan\n",
        "nan\n",
        "nan\n",
        "nan\n",
        "nan"
       ]
      },
      {
       "output_type": "stream",
       "stream": "stdout",
       "text": [
        "\n",
        "nan\n",
        "nan\n",
        "nan\n",
        "nan\n",
        "nan\n",
        "nan\n",
        "nan\n",
        "nan\n",
        "nan\n",
        "nan"
       ]
      },
      {
       "output_type": "stream",
       "stream": "stdout",
       "text": [
        "\n",
        "nan\n",
        "nan\n",
        "nan\n",
        "nan\n",
        "nan\n",
        "nan\n",
        "nan\n",
        "nan\n",
        "nan"
       ]
      },
      {
       "output_type": "stream",
       "stream": "stdout",
       "text": [
        "\n",
        "nan\n",
        "nan\n",
        "nan\n",
        "nan\n",
        "nan\n",
        "nan\n",
        "nan\n",
        "nan\n",
        "nan\n",
        "nan"
       ]
      },
      {
       "output_type": "stream",
       "stream": "stdout",
       "text": [
        "\n",
        "nan\n",
        "nan\n",
        "nan\n",
        "nan\n",
        "nan\n",
        "nan\n",
        "nan\n",
        "nan"
       ]
      },
      {
       "output_type": "stream",
       "stream": "stdout",
       "text": [
        "\n",
        "nan\n",
        "nan\n",
        "nan\n",
        "nan\n",
        "nan\n",
        "nan\n",
        "nan\n",
        "nan"
       ]
      },
      {
       "output_type": "stream",
       "stream": "stdout",
       "text": [
        "\n",
        "nan\n",
        "nan\n",
        "nan\n",
        "nan\n",
        "nan\n",
        "nan\n",
        "nan\n",
        "nan\n",
        "nan\n",
        "nan"
       ]
      },
      {
       "output_type": "stream",
       "stream": "stdout",
       "text": [
        "\n",
        "nan\n",
        "nan\n",
        "nan\n",
        "nan\n",
        "nan\n",
        "nan\n",
        "nan\n",
        "nan"
       ]
      },
      {
       "output_type": "stream",
       "stream": "stdout",
       "text": [
        "\n",
        "nan\n",
        "nan\n",
        "nan\n",
        "nan\n",
        "nan\n",
        "nan\n",
        "nan\n",
        "nan\n",
        "nan"
       ]
      },
      {
       "output_type": "stream",
       "stream": "stdout",
       "text": [
        "\n",
        "nan\n",
        "nan\n",
        "nan\n",
        "nan\n",
        "nan\n",
        "nan\n",
        "nan\n",
        "nan"
       ]
      },
      {
       "output_type": "stream",
       "stream": "stdout",
       "text": [
        "\n",
        "nan\n",
        "nan\n",
        "nan\n",
        "nan\n",
        "nan\n",
        "nan\n",
        "nan\n",
        "nan\n",
        "nan"
       ]
      },
      {
       "output_type": "stream",
       "stream": "stdout",
       "text": [
        "\n",
        "nan\n",
        "nan\n",
        "nan\n",
        "nan\n",
        "nan\n",
        "nan\n",
        "nan\n",
        "nan"
       ]
      },
      {
       "output_type": "stream",
       "stream": "stdout",
       "text": [
        "\n",
        "nan\n",
        "nan\n",
        "nan\n",
        "nan\n",
        "nan\n",
        "nan\n",
        "nan\n",
        "nan\n",
        "nan\n",
        "nan"
       ]
      },
      {
       "output_type": "stream",
       "stream": "stdout",
       "text": [
        "\n",
        "nan\n",
        "nan\n",
        "nan\n",
        "nan\n",
        "nan\n",
        "nan\n",
        "nan\n",
        "nan\n",
        "nan\n",
        "nan"
       ]
      },
      {
       "output_type": "stream",
       "stream": "stdout",
       "text": [
        "\n",
        "nan\n",
        "nan\n",
        "nan\n",
        "nan\n",
        "nan\n",
        "nan\n",
        "nan\n",
        "nan\n",
        "nan\n",
        "nan\n",
        "nan"
       ]
      },
      {
       "output_type": "stream",
       "stream": "stdout",
       "text": [
        "\n",
        "nan\n",
        "nan\n",
        "nan\n",
        "nan\n",
        "nan\n",
        "nan\n",
        "nan\n",
        "nan\n",
        "nan\n",
        "nan"
       ]
      },
      {
       "output_type": "stream",
       "stream": "stdout",
       "text": [
        "\n",
        "nan\n",
        "nan\n",
        "nan\n",
        "nan\n",
        "nan\n",
        "nan\n",
        "nan\n",
        "nan"
       ]
      },
      {
       "output_type": "stream",
       "stream": "stdout",
       "text": [
        "\n",
        "nan\n",
        "nan\n",
        "nan\n",
        "nan\n",
        "nan\n",
        "nan\n",
        "nan\n",
        "nan"
       ]
      },
      {
       "output_type": "stream",
       "stream": "stdout",
       "text": [
        "\n",
        "nan\n",
        "nan\n",
        "nan\n",
        "nan\n",
        "nan\n",
        "nan\n",
        "nan\n",
        "nan"
       ]
      },
      {
       "output_type": "stream",
       "stream": "stdout",
       "text": [
        "\n",
        "nan\n",
        "nan\n",
        "nan\n",
        "nan\n",
        "nan\n",
        "nan\n",
        "nan\n",
        "nan\n",
        "nan\n",
        "nan"
       ]
      },
      {
       "output_type": "stream",
       "stream": "stdout",
       "text": [
        "\n",
        "nan\n",
        "nan\n",
        "nan\n",
        "nan\n",
        "nan\n",
        "nan\n",
        "nan\n",
        "nan\n",
        "nan"
       ]
      },
      {
       "output_type": "stream",
       "stream": "stdout",
       "text": [
        "\n",
        "nan\n",
        "nan\n",
        "nan\n",
        "nan\n",
        "nan\n",
        "nan\n",
        "nan\n",
        "nan\n",
        "nan\n",
        "nan"
       ]
      },
      {
       "output_type": "stream",
       "stream": "stdout",
       "text": [
        "\n",
        "nan\n",
        "nan\n",
        "nan\n",
        "nan\n",
        "nan\n",
        "nan\n",
        "nan\n",
        "nan\n",
        "nan\n",
        "nan"
       ]
      },
      {
       "output_type": "stream",
       "stream": "stdout",
       "text": [
        "\n",
        "nan\n",
        "nan\n",
        "nan\n",
        "nan\n",
        "nan\n",
        "nan\n",
        "nan\n",
        "nan\n",
        "nan\n",
        "nan"
       ]
      },
      {
       "output_type": "stream",
       "stream": "stdout",
       "text": [
        "\n",
        "nan\n",
        "nan\n",
        "nan\n",
        "nan\n",
        "nan\n",
        "nan\n",
        "nan\n",
        "nan\n",
        "nan\n",
        "nan"
       ]
      },
      {
       "output_type": "stream",
       "stream": "stdout",
       "text": [
        "\n",
        "nan\n",
        "nan\n",
        "nan\n",
        "nan\n",
        "nan\n",
        "nan\n",
        "nan\n",
        "nan\n",
        "nan"
       ]
      },
      {
       "output_type": "stream",
       "stream": "stdout",
       "text": [
        "\n",
        "nan\n",
        "nan\n",
        "nan\n",
        "nan\n",
        "nan\n",
        "nan\n",
        "nan\n",
        "nan"
       ]
      },
      {
       "output_type": "stream",
       "stream": "stdout",
       "text": [
        "\n",
        "nan\n",
        "nan\n",
        "nan\n",
        "nan\n",
        "nan\n",
        "nan\n",
        "nan\n",
        "nan\n",
        "nan"
       ]
      },
      {
       "output_type": "stream",
       "stream": "stdout",
       "text": [
        "\n",
        "nan\n",
        "nan\n",
        "nan\n",
        "nan\n",
        "nan\n",
        "nan\n",
        "nan\n",
        "nan\n",
        "nan"
       ]
      },
      {
       "output_type": "stream",
       "stream": "stdout",
       "text": [
        "\n",
        "nan\n",
        "nan\n",
        "nan\n",
        "nan\n",
        "nan\n",
        "nan\n",
        "nan\n",
        "nan\n",
        "nan\n",
        "nan"
       ]
      },
      {
       "output_type": "stream",
       "stream": "stdout",
       "text": [
        "\n",
        "nan\n",
        "nan\n",
        "nan\n",
        "nan\n",
        "nan\n",
        "nan\n",
        "nan\n",
        "nan\n",
        "nan\n",
        "nan"
       ]
      },
      {
       "output_type": "stream",
       "stream": "stdout",
       "text": [
        "\n",
        "nan\n",
        "nan\n",
        "nan\n",
        "nan\n",
        "nan\n",
        "nan\n",
        "nan\n",
        "nan\n",
        "nan\n",
        "nan"
       ]
      },
      {
       "output_type": "stream",
       "stream": "stdout",
       "text": [
        "\n",
        "nan\n",
        "nan\n",
        "nan\n",
        "nan\n",
        "nan\n",
        "nan\n",
        "nan\n",
        "nan\n",
        "nan\n",
        "nan"
       ]
      },
      {
       "output_type": "stream",
       "stream": "stdout",
       "text": [
        "\n",
        "nan\n",
        "nan\n",
        "nan\n",
        "nan\n",
        "nan\n",
        "nan\n",
        "nan\n",
        "nan\n",
        "nan\n",
        "nan"
       ]
      },
      {
       "output_type": "stream",
       "stream": "stdout",
       "text": [
        "\n",
        "nan\n",
        "nan\n",
        "nan\n",
        "nan\n",
        "nan\n",
        "nan\n",
        "nan\n",
        "nan\n",
        "nan"
       ]
      },
      {
       "output_type": "stream",
       "stream": "stdout",
       "text": [
        "\n",
        "nan\n",
        "nan\n",
        "nan\n",
        "nan\n",
        "nan\n",
        "nan\n",
        "nan\n",
        "nan\n",
        "nan"
       ]
      },
      {
       "output_type": "stream",
       "stream": "stdout",
       "text": [
        "\n",
        "nan\n",
        "nan\n",
        "nan\n",
        "nan\n",
        "nan\n",
        "nan\n",
        "nan\n",
        "nan"
       ]
      },
      {
       "output_type": "stream",
       "stream": "stdout",
       "text": [
        "\n",
        "nan\n",
        "nan\n",
        "nan\n",
        "nan\n",
        "nan\n",
        "nan\n",
        "nan\n",
        "nan"
       ]
      },
      {
       "output_type": "stream",
       "stream": "stdout",
       "text": [
        "\n",
        "nan\n",
        "nan\n",
        "nan\n",
        "nan\n",
        "nan\n",
        "nan\n",
        "nan\n",
        "nan"
       ]
      },
      {
       "output_type": "stream",
       "stream": "stdout",
       "text": [
        "\n",
        "nan\n",
        "nan\n",
        "nan\n",
        "nan\n",
        "nan\n",
        "nan\n",
        "nan\n",
        "nan\n",
        "nan"
       ]
      },
      {
       "output_type": "stream",
       "stream": "stdout",
       "text": [
        "\n",
        "nan\n",
        "nan\n",
        "nan\n",
        "nan\n",
        "nan\n",
        "nan\n",
        "nan\n",
        "nan"
       ]
      },
      {
       "output_type": "stream",
       "stream": "stdout",
       "text": [
        "\n",
        "nan\n",
        "nan\n",
        "nan\n",
        "nan\n",
        "nan\n",
        "nan\n",
        "nan\n",
        "nan"
       ]
      },
      {
       "output_type": "stream",
       "stream": "stdout",
       "text": [
        "\n",
        "nan\n",
        "nan\n",
        "nan\n",
        "nan\n",
        "nan\n",
        "nan\n",
        "nan\n",
        "nan"
       ]
      },
      {
       "output_type": "stream",
       "stream": "stdout",
       "text": [
        "\n",
        "nan\n",
        "nan\n",
        "nan\n",
        "nan\n",
        "nan\n",
        "nan\n",
        "nan"
       ]
      },
      {
       "output_type": "stream",
       "stream": "stdout",
       "text": [
        "\n",
        "nan\n",
        "nan\n",
        "nan\n",
        "nan\n",
        "nan\n",
        "nan\n",
        "nan\n",
        "nan"
       ]
      },
      {
       "output_type": "stream",
       "stream": "stdout",
       "text": [
        "\n",
        "nan\n",
        "nan\n",
        "nan\n",
        "nan\n",
        "nan\n",
        "nan\n",
        "nan\n",
        "nan"
       ]
      },
      {
       "output_type": "stream",
       "stream": "stdout",
       "text": [
        "\n",
        "nan\n",
        "nan\n",
        "nan\n",
        "nan\n",
        "nan\n",
        "nan\n",
        "nan\n",
        "nan\n",
        "nan\n",
        "nan"
       ]
      },
      {
       "output_type": "stream",
       "stream": "stdout",
       "text": [
        "\n",
        "nan\n",
        "nan\n",
        "nan\n",
        "nan\n",
        "nan\n",
        "nan\n",
        "nan\n",
        "nan\n",
        "nan"
       ]
      },
      {
       "output_type": "stream",
       "stream": "stdout",
       "text": [
        "\n",
        "nan\n",
        "nan\n",
        "nan\n",
        "nan\n",
        "nan\n",
        "nan\n",
        "nan"
       ]
      },
      {
       "output_type": "stream",
       "stream": "stdout",
       "text": [
        "\n",
        "nan\n",
        "nan\n",
        "nan\n",
        "nan\n",
        "nan\n",
        "nan\n",
        "nan\n",
        "nan\n",
        "nan\n",
        "nan"
       ]
      },
      {
       "output_type": "stream",
       "stream": "stdout",
       "text": [
        "\n",
        "nan\n",
        "nan\n",
        "nan\n",
        "nan\n",
        "nan\n",
        "nan\n",
        "nan\n",
        "nan\n",
        "nan"
       ]
      },
      {
       "output_type": "stream",
       "stream": "stdout",
       "text": [
        "\n",
        "nan\n",
        "nan\n",
        "nan\n",
        "nan\n",
        "nan\n",
        "nan\n",
        "nan\n",
        "nan\n",
        "nan\n",
        "nan"
       ]
      },
      {
       "output_type": "stream",
       "stream": "stdout",
       "text": [
        "\n",
        "nan\n",
        "nan\n",
        "nan\n",
        "nan\n",
        "nan\n",
        "nan\n",
        "nan\n",
        "nan\n",
        "nan"
       ]
      },
      {
       "output_type": "stream",
       "stream": "stdout",
       "text": [
        "\n",
        "nan\n",
        "nan\n",
        "nan\n",
        "nan\n",
        "nan\n",
        "nan\n",
        "nan\n",
        "nan\n",
        "nan"
       ]
      },
      {
       "output_type": "stream",
       "stream": "stdout",
       "text": [
        "\n",
        "nan\n",
        "nan\n",
        "nan\n",
        "nan\n",
        "nan\n",
        "nan\n",
        "nan\n",
        "nan"
       ]
      },
      {
       "output_type": "stream",
       "stream": "stdout",
       "text": [
        "\n",
        "nan\n",
        "nan\n",
        "nan\n",
        "nan\n",
        "nan\n",
        "nan\n",
        "nan\n",
        "nan"
       ]
      },
      {
       "output_type": "stream",
       "stream": "stdout",
       "text": [
        "\n",
        "nan\n",
        "nan\n",
        "nan\n",
        "nan\n",
        "nan\n",
        "nan\n",
        "nan\n",
        "nan\n",
        "nan\n",
        "nan"
       ]
      },
      {
       "output_type": "stream",
       "stream": "stdout",
       "text": [
        "\n",
        "nan\n",
        "nan\n",
        "nan\n",
        "nan\n",
        "nan\n",
        "nan\n",
        "nan\n",
        "nan"
       ]
      },
      {
       "output_type": "stream",
       "stream": "stdout",
       "text": [
        "\n",
        "nan\n",
        "nan\n",
        "nan\n",
        "nan\n",
        "nan\n",
        "nan\n",
        "nan\n",
        "nan\n",
        "nan"
       ]
      },
      {
       "output_type": "stream",
       "stream": "stdout",
       "text": [
        "\n",
        "nan\n",
        "nan\n",
        "nan\n",
        "nan\n",
        "nan\n",
        "nan\n",
        "nan\n",
        "nan\n",
        "nan"
       ]
      },
      {
       "output_type": "stream",
       "stream": "stdout",
       "text": [
        "\n",
        "nan\n",
        "nan\n",
        "nan\n",
        "nan\n",
        "nan\n",
        "nan\n",
        "nan\n",
        "nan\n",
        "nan"
       ]
      },
      {
       "output_type": "stream",
       "stream": "stdout",
       "text": [
        "\n",
        "nan\n",
        "nan\n",
        "nan\n",
        "nan\n",
        "nan\n",
        "nan\n",
        "nan\n",
        "nan\n",
        "nan"
       ]
      },
      {
       "output_type": "stream",
       "stream": "stdout",
       "text": [
        "\n",
        "nan\n",
        "nan\n",
        "nan\n",
        "nan\n",
        "nan\n",
        "nan\n",
        "nan"
       ]
      },
      {
       "output_type": "stream",
       "stream": "stdout",
       "text": [
        "\n",
        "nan\n",
        "nan\n",
        "nan\n",
        "nan\n",
        "nan\n",
        "nan\n",
        "nan\n",
        "nan\n",
        "nan"
       ]
      },
      {
       "output_type": "stream",
       "stream": "stdout",
       "text": [
        "\n",
        "nan\n",
        "nan\n",
        "nan\n",
        "nan\n",
        "nan\n",
        "nan\n",
        "nan\n",
        "nan"
       ]
      },
      {
       "output_type": "stream",
       "stream": "stdout",
       "text": [
        "\n",
        "nan\n",
        "nan\n",
        "nan\n",
        "nan\n",
        "nan\n",
        "nan\n",
        "nan\n",
        "nan"
       ]
      },
      {
       "output_type": "stream",
       "stream": "stdout",
       "text": [
        "\n",
        "nan\n",
        "nan\n",
        "nan\n",
        "nan\n",
        "nan\n",
        "nan\n",
        "nan\n",
        "nan\n",
        "nan\n",
        "nan"
       ]
      },
      {
       "output_type": "stream",
       "stream": "stdout",
       "text": [
        "\n",
        "nan\n",
        "nan\n",
        "nan\n",
        "nan\n",
        "nan\n",
        "nan\n",
        "nan"
       ]
      },
      {
       "output_type": "stream",
       "stream": "stdout",
       "text": [
        "\n",
        "nan\n",
        "nan\n",
        "nan\n",
        "nan\n",
        "nan\n",
        "nan\n",
        "nan\n",
        "nan\n",
        "nan"
       ]
      },
      {
       "output_type": "stream",
       "stream": "stdout",
       "text": [
        "\n",
        "nan\n",
        "nan\n",
        "nan\n",
        "nan\n",
        "nan\n",
        "nan\n",
        "nan\n",
        "nan"
       ]
      },
      {
       "output_type": "stream",
       "stream": "stdout",
       "text": [
        "\n",
        "nan\n",
        "nan\n",
        "nan\n",
        "nan\n",
        "nan\n",
        "nan\n",
        "nan\n",
        "nan"
       ]
      },
      {
       "output_type": "stream",
       "stream": "stdout",
       "text": [
        "\n",
        "nan\n",
        "nan\n",
        "nan\n",
        "nan\n",
        "nan\n",
        "nan\n",
        "nan\n",
        "nan"
       ]
      },
      {
       "output_type": "stream",
       "stream": "stdout",
       "text": [
        "\n",
        "nan\n",
        "nan\n",
        "nan\n",
        "nan\n",
        "nan\n",
        "nan\n",
        "nan\n",
        "nan\n",
        "nan"
       ]
      },
      {
       "output_type": "stream",
       "stream": "stdout",
       "text": [
        "\n",
        "nan\n",
        "nan\n",
        "nan\n",
        "nan\n",
        "nan\n",
        "nan\n",
        "nan\n",
        "nan\n",
        "nan"
       ]
      },
      {
       "output_type": "stream",
       "stream": "stdout",
       "text": [
        "\n",
        "nan\n",
        "nan\n",
        "nan\n",
        "nan\n",
        "nan\n",
        "nan\n",
        "nan\n",
        "nan\n",
        "nan\n",
        "nan"
       ]
      },
      {
       "output_type": "stream",
       "stream": "stdout",
       "text": [
        "\n",
        "nan\n",
        "nan\n",
        "nan\n",
        "nan\n",
        "nan\n",
        "nan\n",
        "nan\n",
        "nan\n",
        "nan"
       ]
      },
      {
       "output_type": "stream",
       "stream": "stdout",
       "text": [
        "\n",
        "nan\n",
        "nan\n",
        "nan\n",
        "nan\n",
        "nan\n",
        "nan\n",
        "nan\n",
        "nan\n",
        "nan\n",
        "nan\n",
        "nan"
       ]
      },
      {
       "output_type": "stream",
       "stream": "stdout",
       "text": [
        "\n",
        "nan\n",
        "nan\n",
        "nan\n",
        "nan\n",
        "nan\n",
        "nan\n",
        "nan\n",
        "nan\n",
        "nan\n",
        "nan"
       ]
      },
      {
       "output_type": "stream",
       "stream": "stdout",
       "text": [
        "\n",
        "nan\n",
        "nan\n",
        "nan\n",
        "nan\n",
        "nan\n",
        "nan\n",
        "nan\n",
        "nan\n",
        "nan"
       ]
      },
      {
       "output_type": "stream",
       "stream": "stdout",
       "text": [
        "\n",
        "nan\n",
        "nan\n",
        "nan\n",
        "nan\n",
        "nan\n",
        "nan\n",
        "nan\n",
        "nan\n",
        "nan\n",
        "nan"
       ]
      },
      {
       "output_type": "stream",
       "stream": "stdout",
       "text": [
        "\n",
        "nan\n",
        "nan\n",
        "nan\n",
        "nan\n",
        "nan\n",
        "nan\n",
        "nan\n",
        "nan\n",
        "nan\n",
        "nan"
       ]
      },
      {
       "output_type": "stream",
       "stream": "stdout",
       "text": [
        "\n",
        "nan\n",
        "nan\n",
        "nan\n",
        "nan\n",
        "nan\n",
        "nan\n",
        "nan\n",
        "nan\n",
        "nan"
       ]
      },
      {
       "output_type": "stream",
       "stream": "stdout",
       "text": [
        "\n",
        "nan\n",
        "nan\n",
        "nan\n",
        "nan\n",
        "nan\n",
        "nan\n",
        "nan\n",
        "nan\n",
        "nan\n",
        "nan"
       ]
      },
      {
       "output_type": "stream",
       "stream": "stdout",
       "text": [
        "\n",
        "nan\n",
        "nan\n",
        "nan\n",
        "nan\n",
        "nan\n",
        "nan\n",
        "nan\n",
        "nan"
       ]
      },
      {
       "output_type": "stream",
       "stream": "stdout",
       "text": [
        "\n",
        "nan\n",
        "nan\n",
        "nan\n",
        "nan\n",
        "nan\n",
        "nan\n",
        "nan\n",
        "nan\n",
        "nan\n",
        "nan"
       ]
      },
      {
       "output_type": "stream",
       "stream": "stdout",
       "text": [
        "\n",
        "nan\n",
        "nan\n",
        "nan\n",
        "nan\n",
        "nan\n",
        "nan\n",
        "nan\n",
        "nan\n",
        "nan"
       ]
      },
      {
       "output_type": "stream",
       "stream": "stdout",
       "text": [
        "\n",
        "nan\n",
        "nan\n",
        "nan\n",
        "nan\n",
        "nan\n",
        "nan\n",
        "nan\n",
        "nan\n",
        "nan\n",
        "nan"
       ]
      },
      {
       "output_type": "stream",
       "stream": "stdout",
       "text": [
        "\n",
        "nan\n",
        "nan\n",
        "nan\n",
        "nan\n",
        "nan\n",
        "nan\n",
        "nan\n",
        "nan\n",
        "nan"
       ]
      },
      {
       "output_type": "stream",
       "stream": "stdout",
       "text": [
        "\n",
        "nan\n",
        "nan\n",
        "nan\n"
       ]
      },
      {
       "output_type": "stream",
       "stream": "stderr",
       "text": [
        "/Users/maryanmorel/Work/PGM_PROJECT/class_coclustering.py:72: RuntimeWarning: invalid value encountered in double_scalars\n",
        "  \n",
        "/Users/maryanmorel/Work/PGM_PROJECT/class_coclustering.py:75: RuntimeWarning: invalid value encountered in true_divide\n",
        "  C = np.sum(self.p_phi, axis=(1,3))\n",
        "/Users/maryanmorel/Work/PGM_PROJECT/class_coclustering.py:77: RuntimeWarning: invalid value encountered in true_divide\n",
        "  \n"
       ]
      }
     ],
     "prompt_number": 60
    },
    {
     "cell_type": "code",
     "collapsed": false,
     "input": [
      "clf.i"
     ],
     "language": "python",
     "metadata": {},
     "outputs": [
      {
       "metadata": {},
       "output_type": "pyout",
       "prompt_number": 58,
       "text": [
        "999"
       ]
      }
     ],
     "prompt_number": 58
    },
    {
     "cell_type": "code",
     "collapsed": false,
     "input": [
      "clf.getClusters()"
     ],
     "language": "python",
     "metadata": {},
     "outputs": [
      {
       "metadata": {},
       "output_type": "pyout",
       "prompt_number": 59,
       "text": [
        "(array([[ nan,  nan,  nan,  nan,  nan,  nan,  nan,  nan],\n",
        "        [ nan,  nan,  nan,  nan,  nan,  nan,  nan,  nan],\n",
        "        [ nan,  nan,  nan,  nan,  nan,  nan,  nan,  nan],\n",
        "        [ nan,  nan,  nan,  nan,  nan,  nan,  nan,  nan],\n",
        "        [ nan,  nan,  nan,  nan,  nan,  nan,  nan,  nan],\n",
        "        [ nan,  nan,  nan,  nan,  nan,  nan,  nan,  nan],\n",
        "        [ nan,  nan,  nan,  nan,  nan,  nan,  nan,  nan],\n",
        "        [ nan,  nan,  nan,  nan,  nan,  nan,  nan,  nan],\n",
        "        [ nan,  nan,  nan,  nan,  nan,  nan,  nan,  nan],\n",
        "        [ nan,  nan,  nan,  nan,  nan,  nan,  nan,  nan],\n",
        "        [ nan,  nan,  nan,  nan,  nan,  nan,  nan,  nan],\n",
        "        [ nan,  nan,  nan,  nan,  nan,  nan,  nan,  nan],\n",
        "        [ nan,  nan,  nan,  nan,  nan,  nan,  nan,  nan],\n",
        "        [ nan,  nan,  nan,  nan,  nan,  nan,  nan,  nan],\n",
        "        [ nan,  nan,  nan,  nan,  nan,  nan,  nan,  nan],\n",
        "        [ nan,  nan,  nan,  nan,  nan,  nan,  nan,  nan],\n",
        "        [ nan,  nan,  nan,  nan,  nan,  nan,  nan,  nan],\n",
        "        [ nan,  nan,  nan,  nan,  nan,  nan,  nan,  nan],\n",
        "        [ nan,  nan,  nan,  nan,  nan,  nan,  nan,  nan],\n",
        "        [ nan,  nan,  nan,  nan,  nan,  nan,  nan,  nan],\n",
        "        [ nan,  nan,  nan,  nan,  nan,  nan,  nan,  nan],\n",
        "        [ nan,  nan,  nan,  nan,  nan,  nan,  nan,  nan],\n",
        "        [ nan,  nan,  nan,  nan,  nan,  nan,  nan,  nan],\n",
        "        [ nan,  nan,  nan,  nan,  nan,  nan,  nan,  nan],\n",
        "        [ nan,  nan,  nan,  nan,  nan,  nan,  nan,  nan],\n",
        "        [ nan,  nan,  nan,  nan,  nan,  nan,  nan,  nan],\n",
        "        [ nan,  nan,  nan,  nan,  nan,  nan,  nan,  nan],\n",
        "        [ nan,  nan,  nan,  nan,  nan,  nan,  nan,  nan],\n",
        "        [ nan,  nan,  nan,  nan,  nan,  nan,  nan,  nan],\n",
        "        [ nan,  nan,  nan,  nan,  nan,  nan,  nan,  nan],\n",
        "        [ nan,  nan,  nan,  nan,  nan,  nan,  nan,  nan],\n",
        "        [ nan,  nan,  nan,  nan,  nan,  nan,  nan,  nan],\n",
        "        [ nan,  nan,  nan,  nan,  nan,  nan,  nan,  nan],\n",
        "        [ nan,  nan,  nan,  nan,  nan,  nan,  nan,  nan],\n",
        "        [ nan,  nan,  nan,  nan,  nan,  nan,  nan,  nan],\n",
        "        [ nan,  nan,  nan,  nan,  nan,  nan,  nan,  nan],\n",
        "        [ nan,  nan,  nan,  nan,  nan,  nan,  nan,  nan],\n",
        "        [ nan,  nan,  nan,  nan,  nan,  nan,  nan,  nan],\n",
        "        [ nan,  nan,  nan,  nan,  nan,  nan,  nan,  nan],\n",
        "        [ nan,  nan,  nan,  nan,  nan,  nan,  nan,  nan],\n",
        "        [ nan,  nan,  nan,  nan,  nan,  nan,  nan,  nan],\n",
        "        [ nan,  nan,  nan,  nan,  nan,  nan,  nan,  nan],\n",
        "        [ nan,  nan,  nan,  nan,  nan,  nan,  nan,  nan],\n",
        "        [ nan,  nan,  nan,  nan,  nan,  nan,  nan,  nan],\n",
        "        [ nan,  nan,  nan,  nan,  nan,  nan,  nan,  nan],\n",
        "        [ nan,  nan,  nan,  nan,  nan,  nan,  nan,  nan],\n",
        "        [ nan,  nan,  nan,  nan,  nan,  nan,  nan,  nan],\n",
        "        [ nan,  nan,  nan,  nan,  nan,  nan,  nan,  nan],\n",
        "        [ nan,  nan,  nan,  nan,  nan,  nan,  nan,  nan],\n",
        "        [ nan,  nan,  nan,  nan,  nan,  nan,  nan,  nan],\n",
        "        [ nan,  nan,  nan,  nan,  nan,  nan,  nan,  nan],\n",
        "        [ nan,  nan,  nan,  nan,  nan,  nan,  nan,  nan],\n",
        "        [ nan,  nan,  nan,  nan,  nan,  nan,  nan,  nan],\n",
        "        [ nan,  nan,  nan,  nan,  nan,  nan,  nan,  nan],\n",
        "        [ nan,  nan,  nan,  nan,  nan,  nan,  nan,  nan],\n",
        "        [ nan,  nan,  nan,  nan,  nan,  nan,  nan,  nan],\n",
        "        [ nan,  nan,  nan,  nan,  nan,  nan,  nan,  nan],\n",
        "        [ nan,  nan,  nan,  nan,  nan,  nan,  nan,  nan],\n",
        "        [ nan,  nan,  nan,  nan,  nan,  nan,  nan,  nan],\n",
        "        [ nan,  nan,  nan,  nan,  nan,  nan,  nan,  nan],\n",
        "        [ nan,  nan,  nan,  nan,  nan,  nan,  nan,  nan],\n",
        "        [ nan,  nan,  nan,  nan,  nan,  nan,  nan,  nan],\n",
        "        [ nan,  nan,  nan,  nan,  nan,  nan,  nan,  nan],\n",
        "        [ nan,  nan,  nan,  nan,  nan,  nan,  nan,  nan],\n",
        "        [ nan,  nan,  nan,  nan,  nan,  nan,  nan,  nan],\n",
        "        [ nan,  nan,  nan,  nan,  nan,  nan,  nan,  nan],\n",
        "        [ nan,  nan,  nan,  nan,  nan,  nan,  nan,  nan],\n",
        "        [ nan,  nan,  nan,  nan,  nan,  nan,  nan,  nan],\n",
        "        [ nan,  nan,  nan,  nan,  nan,  nan,  nan,  nan],\n",
        "        [ nan,  nan,  nan,  nan,  nan,  nan,  nan,  nan],\n",
        "        [ nan,  nan,  nan,  nan,  nan,  nan,  nan,  nan],\n",
        "        [ nan,  nan,  nan,  nan,  nan,  nan,  nan,  nan],\n",
        "        [ nan,  nan,  nan,  nan,  nan,  nan,  nan,  nan],\n",
        "        [ nan,  nan,  nan,  nan,  nan,  nan,  nan,  nan],\n",
        "        [ nan,  nan,  nan,  nan,  nan,  nan,  nan,  nan],\n",
        "        [ nan,  nan,  nan,  nan,  nan,  nan,  nan,  nan],\n",
        "        [ nan,  nan,  nan,  nan,  nan,  nan,  nan,  nan],\n",
        "        [ nan,  nan,  nan,  nan,  nan,  nan,  nan,  nan],\n",
        "        [ nan,  nan,  nan,  nan,  nan,  nan,  nan,  nan],\n",
        "        [ nan,  nan,  nan,  nan,  nan,  nan,  nan,  nan],\n",
        "        [ nan,  nan,  nan,  nan,  nan,  nan,  nan,  nan],\n",
        "        [ nan,  nan,  nan,  nan,  nan,  nan,  nan,  nan],\n",
        "        [ nan,  nan,  nan,  nan,  nan,  nan,  nan,  nan],\n",
        "        [ nan,  nan,  nan,  nan,  nan,  nan,  nan,  nan],\n",
        "        [ nan,  nan,  nan,  nan,  nan,  nan,  nan,  nan],\n",
        "        [ nan,  nan,  nan,  nan,  nan,  nan,  nan,  nan],\n",
        "        [ nan,  nan,  nan,  nan,  nan,  nan,  nan,  nan],\n",
        "        [ nan,  nan,  nan,  nan,  nan,  nan,  nan,  nan],\n",
        "        [ nan,  nan,  nan,  nan,  nan,  nan,  nan,  nan],\n",
        "        [ nan,  nan,  nan,  nan,  nan,  nan,  nan,  nan],\n",
        "        [ nan,  nan,  nan,  nan,  nan,  nan,  nan,  nan],\n",
        "        [ nan,  nan,  nan,  nan,  nan,  nan,  nan,  nan],\n",
        "        [ nan,  nan,  nan,  nan,  nan,  nan,  nan,  nan],\n",
        "        [ nan,  nan,  nan,  nan,  nan,  nan,  nan,  nan],\n",
        "        [ nan,  nan,  nan,  nan,  nan,  nan,  nan,  nan],\n",
        "        [ nan,  nan,  nan,  nan,  nan,  nan,  nan,  nan],\n",
        "        [ nan,  nan,  nan,  nan,  nan,  nan,  nan,  nan],\n",
        "        [ nan,  nan,  nan,  nan,  nan,  nan,  nan,  nan],\n",
        "        [ nan,  nan,  nan,  nan,  nan,  nan,  nan,  nan],\n",
        "        [ nan,  nan,  nan,  nan,  nan,  nan,  nan,  nan]]),\n",
        " array([[ nan,  nan,  nan,  nan],\n",
        "        [ nan,  nan,  nan,  nan],\n",
        "        [ nan,  nan,  nan,  nan],\n",
        "        [ nan,  nan,  nan,  nan],\n",
        "        [ nan,  nan,  nan,  nan],\n",
        "        [ nan,  nan,  nan,  nan],\n",
        "        [ nan,  nan,  nan,  nan],\n",
        "        [ nan,  nan,  nan,  nan],\n",
        "        [ nan,  nan,  nan,  nan],\n",
        "        [ nan,  nan,  nan,  nan],\n",
        "        [ nan,  nan,  nan,  nan],\n",
        "        [ nan,  nan,  nan,  nan],\n",
        "        [ nan,  nan,  nan,  nan],\n",
        "        [ nan,  nan,  nan,  nan],\n",
        "        [ nan,  nan,  nan,  nan],\n",
        "        [ nan,  nan,  nan,  nan],\n",
        "        [ nan,  nan,  nan,  nan],\n",
        "        [ nan,  nan,  nan,  nan],\n",
        "        [ nan,  nan,  nan,  nan],\n",
        "        [ nan,  nan,  nan,  nan]]))"
       ]
      }
     ],
     "prompt_number": 59
    },
    {
     "cell_type": "code",
     "collapsed": false,
     "input": [
      "import numpy as np\n",
      "np.sum(M, 0)\n",
      "np.sum(M, 1)"
     ],
     "language": "python",
     "metadata": {},
     "outputs": [
      {
       "metadata": {},
       "output_type": "pyout",
       "prompt_number": 34,
       "text": [
        "array([  2.,   1.,   2.,   4.,   4.,   3.,   2.,   3.,   2.,  13.,   1.,\n",
        "        14.,   2.,   4.,  14.,  13.,   4.,   1.,   2.,   2.,   2.,   2.,\n",
        "        14.,   4.,   4.,   2.,   2.,   4.,   4.,   2.,   2.,   4.,   2.,\n",
        "         3.,   2.,   2.,  14.,   2.,   4.,   3.,   2.,  15.,   4.,   4.,\n",
        "        13.,   3.,   4.,   6.,   2.,   3.,   4.,   3.,  15.,  13.,  13.,\n",
        "         2.,   2.,  15.,  13.,  13.,   3.,   6.,   3.,   3.,   2.,   3.,\n",
        "         3.,   3.,   2.,   4.,   2.,   3.,   4.,  13.,  14.,   4.,   2.,\n",
        "         6.,   2.,   3.,   2.,   1.,   4.,   2.,   4.,   3.,   4.,  13.,\n",
        "        13.,   4.,   4.,   2.,   2.,   3.,   4.,   4.,  15.,   4.,   3.,\n",
        "         2.])"
       ]
      }
     ],
     "prompt_number": 34
    },
    {
     "cell_type": "code",
     "collapsed": false,
     "input": [
      "np.log(1e-22)"
     ],
     "language": "python",
     "metadata": {},
     "outputs": [
      {
       "metadata": {},
       "output_type": "pyout",
       "prompt_number": 40,
       "text": [
        "-50.656872045869008"
       ]
      }
     ],
     "prompt_number": 40
    },
    {
     "cell_type": "code",
     "collapsed": false,
     "input": [],
     "language": "python",
     "metadata": {},
     "outputs": []
    }
   ],
   "metadata": {}
  }
 ]
}