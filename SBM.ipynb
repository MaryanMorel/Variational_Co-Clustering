{
 "metadata": {
  "name": "",
  "signature": "sha256:53d9b101beb1f6c0eddaf6002391367d8c2a735f03aae464b6da1b5e2a8a3db5"
 },
 "nbformat": 3,
 "nbformat_minor": 0,
 "worksheets": [
  {
   "cells": [
    {
     "cell_type": "code",
     "collapsed": false,
     "input": [
      "import MatrixGenerator as mg\n",
      "import numpy as np\n",
      "from sklearn.preprocessing import LabelBinarizer, label_binarize\n",
      "import class_coclustering as CC\n",
      "import SBM as SBM\n",
      "import imp\n",
      "\n",
      "import numpy as np\n",
      "from sklearn.cluster import KMeans"
     ],
     "language": "python",
     "metadata": {},
     "outputs": [],
     "prompt_number": 1
    },
    {
     "cell_type": "code",
     "collapsed": false,
     "input": [
      "mg = imp.reload(mg)\n",
      "import matplotlib.pyplot as plt\n",
      "%matplotlib inline\n",
      "\n",
      "nrows = 30\n",
      "ncols = 20\n",
      "nC = 4\n",
      "nD = 3\n",
      "\n",
      "(C_true,D_true,data) = mg.sampleMatrix(nrows, ncols, nC, nD, random_state=3)\n",
      "C_true = [np.sort(item) for item in C_true]\n",
      "D_true = [np.sort(item) for item in D_true]\n",
      "\n",
      "data[C_true[2], 6:13] *= -1 \n",
      "\n",
      "# ## Preference values\n",
      "#random_state = 3\n",
      "#nrows = 100\n",
      "#ncols = 20\n",
      "#nC = 8\n",
      "#nD = 4\n",
      "# data[C_true[1],6] = -data[C_true[1],6]\n",
      "# data[C_true[1],9] = -data[C_true[1],9]\n",
      "# data[C_true[0],1] = -data[C_true[0],1]\n",
      "# data[C_true[2],14] = -data[C_true[2],14]\n",
      "# data[C_true[2],11] = -data[C_true[2],11]\n",
      "# data[C_true[3],2] = -data[C_true[3],2]\n",
      "# data[C_true[3],4] = -data[C_true[3],4]\n",
      "# data[C_true[3],6] = -data[C_true[3],6]\n",
      "# data[C_true[4],3] = -data[C_true[4],8]\n",
      "# data[C_true[5],13] = -data[C_true[5],13]\n",
      "# data[C_true[6],0] = -data[C_true[6],0]\n",
      "# data[C_true[6],11] = -data[C_true[6],11]\n",
      "\n",
      "C_true.sort(key=lambda t: len(t), reverse=True)\n",
      "D_true.sort(key=lambda t: len(t), reverse=True)\n",
      "\n",
      "C_index = [item for sublist in C_true for item in sublist]\n",
      "D_index = [item for sublist in D_true for item in sublist]\n",
      "ordered_data = data[C_index,:]\n",
      "ordered_data = ordered_data[:, D_index]\n",
      "\n",
      "plt.pcolor(data)\n",
      "plt.show()\n",
      "plt.pcolor(ordered_data)\n",
      "plt.show()"
     ],
     "language": "python",
     "metadata": {},
     "outputs": [
      {
       "metadata": {},
       "output_type": "display_data",
       "png": "[encoded data removed]",
       "text": [
        "<matplotlib.figure.Figure at 0x113b00e80>"
       ]
      },
      {
       "metadata": {},
       "output_type": "display_data",
       "png": "[encoded data removed]",
       "text": [
        "<matplotlib.figure.Figure at 0x113da9ba8>"
       ]
      }
     ],
     "prompt_number": 19
    },
    {
     "cell_type": "code",
     "collapsed": false,
     "input": [
      "SMB = imp.reload(SBM)\n",
      "maxIter=3000\n",
      "tol=1e-10\n",
      "K = nC\n",
      "L = nD\n",
      "random_state = 1\n",
      "clf= SBM.SBM(data, K, L, maxIter, tol, random_state=random_state)"
     ],
     "language": "python",
     "metadata": {},
     "outputs": [],
     "prompt_number": 87
    },
    {
     "cell_type": "code",
     "collapsed": false,
     "input": [
      "np.log(clf.P_v_cd[v,:,:])"
     ],
     "language": "python",
     "metadata": {},
     "outputs": [
      {
       "metadata": {},
       "output_type": "pyout",
       "prompt_number": 81,
       "text": [
        "array([[  -2.247235  ,   -2.247235  ,   -2.247235  ],\n",
        "       [  -2.247235  ,   -2.247235  ,   -2.247235  ],\n",
        "       [-115.12925465,   -3.02042489, -115.12925465],\n",
        "       [  -2.247235  ,   -2.247235  ,   -2.247235  ]])"
       ]
      }
     ],
     "prompt_number": 81
    },
    {
     "cell_type": "code",
     "collapsed": false,
     "input": [
      "s_Q_xc = 0 \n",
      "for i,j,v in zip(clf.dataS.row, clf.dataS.col, clf.dataS.data):\n",
      "    s_Q_xc += clf.Q_yd[j,:] * np.log(clf.P_v_cd[v,:,:])\n",
      "s_Q_xc"
     ],
     "language": "python",
     "metadata": {},
     "outputs": [
      {
       "metadata": {},
       "output_type": "pyout",
       "prompt_number": 82,
       "text": [
        "array([[ -103.3728099 ,  -377.53547965,   -65.16981494],\n",
        "       [ -103.3728099 ,  -377.53547965,   -65.16981494],\n",
        "       [-5295.94571389,  -507.43138087, -3338.74838484],\n",
        "       [ -103.3728099 ,  -377.53547965,   -65.16981494]])"
       ]
      }
     ],
     "prompt_number": 82
    },
    {
     "cell_type": "code",
     "collapsed": false,
     "input": [
      "Q_xc = clf.P_c * np.exp((clf.dataS==1).dot(clf.Q_yd.dot(np.log(clf.P_v_cd[1,:,:].T))) + \\\n",
      "    (clf.dataS==-1).dot(clf.Q_yd.dot(np.log(clf.P_v_cd[0,:,:].T))))\n",
      "Q_xc = Q_xc / np.sum(Q_xc,1).reshape(clf.N,1) ## normalization\n"
     ],
     "language": "python",
     "metadata": {},
     "outputs": [],
     "prompt_number": 85
    },
    {
     "cell_type": "code",
     "collapsed": false,
     "input": [
      "np.log(clf.P_v_cd[0,:,:].T*30)"
     ],
     "language": "python",
     "metadata": {},
     "outputs": [
      {
       "metadata": {},
       "output_type": "pyout",
       "prompt_number": 69,
       "text": [
        "array([[       -inf,        -inf,        -inf,        -inf],\n",
        "       [       -inf,        -inf,  3.40119738,        -inf],\n",
        "       [       -inf,        -inf,        -inf,        -inf]])"
       ]
      }
     ],
     "prompt_number": 69
    },
    {
     "cell_type": "code",
     "collapsed": false,
     "input": [
      "clf.fit()\n",
      "print(clf.P_c, clf.P_d)"
     ],
     "language": "python",
     "metadata": {},
     "outputs": [
      {
       "output_type": "stream",
       "stream": "stdout",
       "text": [
        "The algorithm has converged in 1291 iterations\n",
        "[ 0.32178391  0.32178391  0.03464826  0.32178391] [ 0.33333334  0.33333333  0.33333334]\n"
       ]
      }
     ],
     "prompt_number": 88
    },
    {
     "cell_type": "code",
     "collapsed": false,
     "input": [
      "clf.getClusterAssociation()"
     ],
     "language": "python",
     "metadata": {},
     "outputs": [
      {
       "metadata": {},
       "output_type": "pyout",
       "prompt_number": 89,
       "text": [
        "(array([1, 1, 1, 1]),\n",
        " array([2, 0, 2]),\n",
        " array([[ 0.02222222,  0.05555556,  0.02380952],\n",
        "        [ 0.02222222,  0.05555556,  0.02380952],\n",
        "        [ 0.02222222,  0.05555555,  0.02380952],\n",
        "        [ 0.02222222,  0.05555556,  0.02380952]]))"
       ]
      }
     ],
     "prompt_number": 89
    },
    {
     "cell_type": "code",
     "collapsed": false,
     "input": [
      "P_cd = np.sum(clf.p_phi, axis=(0,1))\n",
      "P_cd = P_cd / np.sum(P_cd, axis=(1)).reshape(clf.K,1)\n",
      "P_cd"
     ],
     "language": "python",
     "metadata": {},
     "outputs": [
      {
       "metadata": {},
       "output_type": "pyout",
       "prompt_number": 10,
       "text": [
        "array([[ 0.25      ,  0.41571134,  0.33428866],\n",
        "       [ 0.25      ,  0.41571134,  0.33428866],\n",
        "       [ 0.25      ,  0.41571134,  0.33428866],\n",
        "       [ 0.25      ,  0.41571134,  0.33428866],\n",
        "       [ 0.25      ,  0.41571134,  0.33428866],\n",
        "       [ 0.25      ,  0.41571134,  0.33428866]])"
       ]
      }
     ],
     "prompt_number": 10
    },
    {
     "cell_type": "code",
     "collapsed": false,
     "input": [],
     "language": "python",
     "metadata": {},
     "outputs": []
    }
   ],
   "metadata": {}
  }
 ]
}