{
 "metadata": {
  "name": "",
  "signature": "sha256:6f64e8b0692c3b2dbb3d6681bcf8b6710c29a669cbf57f2ec18cf4f8216df5f4"
 },
 "nbformat": 3,
 "nbformat_minor": 0,
 "worksheets": [
  {
   "cells": [
    {
     "cell_type": "code",
     "collapsed": false,
     "input": [
      "import MatrixGenerator as mg\n",
      "import numpy as np\n",
      "from sklearn.preprocessing import LabelBinarizer\n",
      "import class_coclustering as CC\n",
      "import imp\n",
      "\n",
      "import numpy as np\n",
      "from sklearn.cluster import KMeans"
     ],
     "language": "python",
     "metadata": {},
     "outputs": [
      {
       "metadata": {},
       "output_type": "pyout",
       "prompt_number": 86,
       "text": [
        "<module 'MatrixGenerator' from '/Users/maryanmorel/Work/Variational_Co-Clustering/MatrixGenerator.py'>"
       ]
      }
     ],
     "prompt_number": 86
    },
    {
     "cell_type": "code",
     "collapsed": false,
     "input": [
      "mg = imp.reload(mg)\n",
      "import matplotlib.pyplot as plt\n",
      "%matplotlib inline\n",
      "\n",
      "nrows = 50 \n",
      "ncols = 16\n",
      "nC = 4\n",
      "nD = 3\n",
      "\n",
      "(C_true,D_true,data) = mg.sampleMatrix(nrows, ncols, nC, nD, random_state=3)\n",
      "\n",
      "C_true = [np.sort(item) for item in C_true]\n",
      "D_true = [np.sort(item) for item in D_true]\n",
      "\n",
      "C_true.sort(key=lambda t: len(t), reverse=True)\n",
      "D_true.sort(key=lambda t: len(t), reverse=True)\n",
      "\n",
      "C_index = [item for sublist in C_true for item in sublist]\n",
      "D_index = [item for sublist in D_true for item in sublist]\n",
      "ordered_data = data[C_index,:]\n",
      "ordered_data = ordered_data[:, D_index]\n",
      "\n",
      "plt.pcolor(data)\n",
      "plt.show()\n",
      "plt.pcolor(ordered_data)\n",
      "plt.show()"
     ],
     "language": "python",
     "metadata": {},
     "outputs": [
      {
       "metadata": {},
       "output_type": "display_data",
       "png": "[encoded data removed]",
       "text": [
        "<matplotlib.figure.Figure at 0x10dc63470>"
       ]
      },
      {
       "metadata": {},
       "output_type": "display_data",
       "png": "[encoded data removed]",
       "text": [
        "<matplotlib.figure.Figure at 0x10dba3160>"
       ]
      }
     ],
     "prompt_number": 301
    },
    {
     "cell_type": "code",
     "collapsed": false,
     "input": [
      "CC = imp.reload(CC)\n",
      "clf = CC.coClusteringAdjacency(data=data, K=nC, L=nD, maxIter=1000, tol=1e-3, random_state=5) #5\n",
      "clf.fit()"
     ],
     "language": "python",
     "metadata": {},
     "outputs": [
      {
       "output_type": "stream",
       "stream": "stdout",
       "text": [
        "The algorithm has converged in 173 iterations\n"
       ]
      }
     ],
     "prompt_number": 227
    },
    {
     "cell_type": "code",
     "collapsed": false,
     "input": [
      "C_pred, D_pred = clf.getClusters()"
     ],
     "language": "python",
     "metadata": {},
     "outputs": [],
     "prompt_number": 166
    },
    {
     "cell_type": "code",
     "collapsed": false,
     "input": [
      "for i in np.unique(D_pred):\n",
      "    print(np.where(D_pred == i))"
     ],
     "language": "python",
     "metadata": {},
     "outputs": [
      {
       "output_type": "stream",
       "stream": "stdout",
       "text": [
        "(array([ 2,  3,  4,  7, 14]),)\n",
        "(array([ 0,  5,  6,  8,  9, 10, 11, 12, 13, 15]),)\n",
        "(array([1]),)\n"
       ]
      }
     ],
     "prompt_number": 206
    },
    {
     "cell_type": "code",
     "collapsed": false,
     "input": [
      "for i in np.unique(C_pred):\n",
      "    print(np.where(C_pred == i))"
     ],
     "language": "python",
     "metadata": {},
     "outputs": [
      {
       "output_type": "stream",
       "stream": "stdout",
       "text": [
        "(array([ 0,  2,  4,  5,  8, 11, 12, 13, 16, 17, 18, 20, 22, 23, 29, 31, 32,\n",
        "       38, 39, 40, 41, 42, 43, 45, 47, 48, 49]),)\n",
        "(array([ 3,  6,  9, 14, 15, 19, 24, 25, 26, 28, 30, 34, 44]),)\n",
        "(array([ 1,  7, 10, 21, 27, 33, 35, 36, 37, 46]),)\n"
       ]
      }
     ],
     "prompt_number": 207
    },
    {
     "cell_type": "code",
     "collapsed": false,
     "input": [
      "D_true"
     ],
     "language": "python",
     "metadata": {},
     "outputs": [
      {
       "metadata": {},
       "output_type": "pyout",
       "prompt_number": 266,
       "text": [
        "[[12, 13, 0, 8, 5, 9, 11, 10, 6, 15], [4, 3, 7, 14, 2], [1]]"
       ]
      }
     ],
     "prompt_number": 266
    },
    {
     "cell_type": "code",
     "collapsed": false,
     "input": [
      "clf.phi"
     ],
     "language": "python",
     "metadata": {},
     "outputs": [
      {
       "metadata": {},
       "output_type": "pyout",
       "prompt_number": 180,
       "text": [
        "array([[ 0.00619257,  0.01332027,  0.05208235],\n",
        "       [ 0.00429229,  0.03187688,  0.00111863],\n",
        "       [ 0.05468178,  0.0052988 ,  0.00261082],\n",
        "       [ 0.00619257,  0.01332027,  0.05208235]])"
       ]
      }
     ],
     "prompt_number": 180
    },
    {
     "cell_type": "code",
     "collapsed": false,
     "input": [
      "clf = CC.coClusteringAdjacency(data=data, K=nC, L=nD, maxIter=1000, tol=1e-3, random_state=5) #5\n",
      "clf.fit()\n",
      "clf.getLikelihood()"
     ],
     "language": "python",
     "metadata": {},
     "outputs": [
      {
       "output_type": "stream",
       "stream": "stdout",
       "text": [
        "The algorithm has converged in 173 iterations\n"
       ]
      },
      {
       "metadata": {},
       "output_type": "pyout",
       "prompt_number": 184,
       "text": [
        "8.6318788404559843"
       ]
      }
     ],
     "prompt_number": 184
    },
    {
     "cell_type": "code",
     "collapsed": false,
     "input": [
      "clf = CC.coClusteringAdjacency(data=data, K=nC, L=nD, maxIter=1000, tol=1e-3, random_state=3)\n",
      "clf.fit()\n",
      "clf.getLikelihood()"
     ],
     "language": "python",
     "metadata": {},
     "outputs": [
      {
       "output_type": "stream",
       "stream": "stdout",
       "text": [
        "The algorithm has converged in 120 iterations\n"
       ]
      },
      {
       "metadata": {},
       "output_type": "pyout",
       "prompt_number": 199,
       "text": [
        "9.5909564503272371"
       ]
      }
     ],
     "prompt_number": 199
    },
    {
     "cell_type": "code",
     "collapsed": false,
     "input": [
      "clf = CC.coClusteringAdjacency(data=data, K=nC, L=nD, maxIter=1000, tol=1e-3, random_state=1)\n",
      "clf.fit()\n",
      "clf.getLikelihood()"
     ],
     "language": "python",
     "metadata": {},
     "outputs": [
      {
       "output_type": "stream",
       "stream": "stdout",
       "text": [
        "The algorithm has converged in 10 iterations\n"
       ]
      },
      {
       "metadata": {},
       "output_type": "pyout",
       "prompt_number": 205,
       "text": [
        "16.800000000000011"
       ]
      }
     ],
     "prompt_number": 205
    },
    {
     "cell_type": "code",
     "collapsed": false,
     "input": [
      "clf = CC.coClusteringAdjacency(data=data, K=nC, L=nD, maxIter=1000, tol=1e-3, random_state=6)\n",
      "clf.fit()\n",
      "clf.getLikelihood()"
     ],
     "language": "python",
     "metadata": {},
     "outputs": [
      {
       "output_type": "stream",
       "stream": "stdout",
       "text": [
        "The algorithm has converged in 11 iterations\n"
       ]
      },
      {
       "metadata": {},
       "output_type": "pyout",
       "prompt_number": 211,
       "text": [
        "16.800000000000004"
       ]
      }
     ],
     "prompt_number": 211
    },
    {
     "cell_type": "code",
     "collapsed": false,
     "input": [
      "clf = CC.coClusteringAdjacency(data=data, K=nC, L=nD, maxIter=1000, tol=1e-3, random_state=7)\n",
      "clf.fit()\n",
      "clf.getLikelihood()"
     ],
     "language": "python",
     "metadata": {},
     "outputs": [
      {
       "output_type": "stream",
       "stream": "stdout",
       "text": [
        "The algorithm has converged in 10 iterations\n"
       ]
      },
      {
       "metadata": {},
       "output_type": "pyout",
       "prompt_number": 224,
       "text": [
        "16.799999999999997"
       ]
      }
     ],
     "prompt_number": 224
    },
    {
     "cell_type": "code",
     "collapsed": false,
     "input": [
      "clf = CC.coClusteringAdjacency(data=data, K=nC, L=nD, maxIter=1000, tol=1e-3, random_state=8)\n",
      "clf.fit()\n",
      "clf.getLikelihood()"
     ],
     "language": "python",
     "metadata": {},
     "outputs": [
      {
       "output_type": "stream",
       "stream": "stdout",
       "text": [
        "The algorithm has converged in 173 iterations\n"
       ]
      },
      {
       "metadata": {},
       "output_type": "pyout",
       "prompt_number": 213,
       "text": [
        "8.6318788404559843"
       ]
      }
     ],
     "prompt_number": 213
    },
    {
     "cell_type": "code",
     "collapsed": false,
     "input": [
      "clf.phi"
     ],
     "language": "python",
     "metadata": {},
     "outputs": [
      {
       "metadata": {},
       "output_type": "pyout",
       "prompt_number": 214,
       "text": [
        "array([[ 0.00619257,  0.01332027,  0.05208235],\n",
        "       [ 0.00429229,  0.03187688,  0.00111863],\n",
        "       [ 0.05468178,  0.0052988 ,  0.00261082],\n",
        "       [ 0.00619257,  0.01332027,  0.05208235]])"
       ]
      }
     ],
     "prompt_number": 214
    },
    {
     "cell_type": "code",
     "collapsed": false,
     "input": [
      "clf.getClusterAssociation()"
     ],
     "language": "python",
     "metadata": {},
     "outputs": [
      {
       "metadata": {},
       "output_type": "pyout",
       "prompt_number": 228,
       "text": [
        "(array([2, 1, 0, 2]), array([2, 1, 3]))"
       ]
      }
     ],
     "prompt_number": 228
    },
    {
     "cell_type": "code",
     "collapsed": false,
     "input": [
      "resMat = np.zeros((clf.N, clf.M))\n",
      "C_pred, D_pred = clf.getClusters()\n",
      "C_true.sort(key=lambda t: len(t), reverse=True)\n",
      "D_true.sort(key=lambda t: len(t), reverse=True)\n",
      "C_pred = [np.sort(np.where(C_pred == i)[0]) for i in np.unique(C_pred)]\n",
      "D_pred = [np.sort(np.where(D_pred == i)[0]) for i in np.unique(D_pred)]\n",
      "for i, a in enumerate(clf.getClusterAssociation()[0]):\n",
      "    try:\n",
      "        for x in C_pred[i]:\n",
      "            for y in D_pred[a]:\n",
      "                resMat[x,y] = 1\n",
      "    except:\n",
      "        e = 1"
     ],
     "language": "python",
     "metadata": {},
     "outputs": [],
     "prompt_number": 302
    },
    {
     "cell_type": "code",
     "collapsed": false,
     "input": [
      "plt.pcolor(data)\n",
      "plt.show()\n",
      "\n",
      "plt.pcolor(resMat)\n",
      "plt.show()"
     ],
     "language": "python",
     "metadata": {},
     "outputs": [
      {
       "metadata": {},
       "output_type": "display_data",
       "png": "[encoded data removed]",
       "text": [
        "<matplotlib.figure.Figure at 0x10dc64c88>"
       ]
      },
      {
       "metadata": {},
       "output_type": "display_data",
       "png": "[encoded data removed]",
       "text": [
        "<matplotlib.figure.Figure at 0x10ddcd2b0>"
       ]
      }
     ],
     "prompt_number": 303
    },
    {
     "cell_type": "code",
     "collapsed": false,
     "input": [
      "C_pred.sort(key=lambda t: len(t), reverse=True)\n",
      "D_pred.sort(key=lambda t: len(t), reverse=True)\n",
      "C_index_pred = [item for sublist in C_pred for item in sublist]\n",
      "D_index_pred = [item for sublist in D_pred for item in sublist]\n",
      "ordered_pred = resMat[C_index_pred,:]\n",
      "ordered_pred = resMat[:, D_index_pred]\n",
      "\n",
      "plt.pcolor(ordered_data)\n",
      "plt.show()\n",
      "plt.pcolor(ordered_pred)\n",
      "plt.show()"
     ],
     "language": "python",
     "metadata": {},
     "outputs": [
      {
       "metadata": {},
       "output_type": "display_data",
       "png": "[encoded data removed]",
       "text": [
        "<matplotlib.figure.Figure at 0x10dc7b518>"
       ]
      },
      {
       "metadata": {},
       "output_type": "display_data",
       "png": "[encoded data removed]",
       "text": [
        "<matplotlib.figure.Figure at 0x10db25be0>"
       ]
      }
     ],
     "prompt_number": 319
    },
    {
     "cell_type": "code",
     "collapsed": false,
     "input": [
      "C_true.sort(key=lambda t: len(t), reverse=True)\n",
      "D_true.sort(key=lambda t: len(t), reverse=True)\n",
      "\n",
      "C_index = [item for sublist in C_true for item in sublist]\n",
      "D_index = [item for sublist in D_true for item in sublist]\n",
      "ordered_data = data[C_index,:]\n",
      "ordered_data = ordered_data[:, D_index]"
     ],
     "language": "python",
     "metadata": {},
     "outputs": [],
     "prompt_number": 326
    },
    {
     "cell_type": "code",
     "collapsed": false,
     "input": [
      "D_index == D_index_pred"
     ],
     "language": "python",
     "metadata": {},
     "outputs": [
      {
       "metadata": {},
       "output_type": "pyout",
       "prompt_number": 322,
       "text": [
        "True"
       ]
      }
     ],
     "prompt_number": 322
    },
    {
     "cell_type": "code",
     "collapsed": false,
     "input": [
      "C_index == C_index_pred"
     ],
     "language": "python",
     "metadata": {},
     "outputs": [
      {
       "metadata": {},
       "output_type": "pyout",
       "prompt_number": 323,
       "text": [
        "False"
       ]
      }
     ],
     "prompt_number": 323
    },
    {
     "cell_type": "code",
     "collapsed": false,
     "input": [
      "C_true"
     ],
     "language": "python",
     "metadata": {},
     "outputs": [
      {
       "metadata": {},
       "output_type": "pyout",
       "prompt_number": 324,
       "text": [
        "[array([ 0,  2,  4,  5,  8, 11, 12, 13, 16, 17, 18, 20, 22, 23, 29, 31, 32,\n",
        "        38, 39, 40, 41, 42, 43, 45, 47, 48, 49]),\n",
        " array([ 3,  6, 15, 19, 24, 25, 26, 30, 34, 44]),\n",
        " array([ 1,  7, 10, 21, 27, 33, 35, 36, 37, 46]),\n",
        " array([ 9, 14, 28])]"
       ]
      }
     ],
     "prompt_number": 324
    },
    {
     "cell_type": "code",
     "collapsed": false,
     "input": [
      "C_pred"
     ],
     "language": "python",
     "metadata": {},
     "outputs": [
      {
       "metadata": {},
       "output_type": "pyout",
       "prompt_number": 325,
       "text": [
        "[array([ 0,  2,  4,  5,  8, 11, 12, 13, 16, 17, 18, 20, 22, 23, 29, 31, 32,\n",
        "        38, 39, 40, 41, 42, 43, 45, 47, 48, 49]),\n",
        " array([ 3,  6,  9, 14, 15, 19, 24, 25, 26, 28, 30, 34, 44]),\n",
        " array([ 1,  7, 10, 21, 27, 33, 35, 36, 37, 46])]"
       ]
      }
     ],
     "prompt_number": 325
    },
    {
     "cell_type": "code",
     "collapsed": false,
     "input": [
      "print(C_index)"
     ],
     "language": "python",
     "metadata": {},
     "outputs": [
      {
       "output_type": "stream",
       "stream": "stdout",
       "text": [
        "[0, 2, 4, 5, 8, 11, 12, 13, 16, 17, 18, 20, 22, 23, 29, 31, 32, 38, 39, 40, 41, 42, 43, 45, 47, 48, 49, 3, 6, 15, 19, 24, 25, 26, 30, 34, 44, 1, 7, 10, 21, 27, 33, 35, 36, 37, 46, 9, 14, 28]\n"
       ]
      }
     ],
     "prompt_number": 328
    },
    {
     "cell_type": "code",
     "collapsed": false,
     "input": [
      "print(C_index_pred)"
     ],
     "language": "python",
     "metadata": {},
     "outputs": [
      {
       "output_type": "stream",
       "stream": "stdout",
       "text": [
        "[0, 2, 4, 5, 8, 11, 12, 13, 16, 17, 18, 20, 22, 23, 29, 31, 32, 38, 39, 40, 41, 42, 43, 45, 47, 48, 49, 3, 6, 9, 14, 15, 19, 24, 25, 26, 28, 30, 34, 44, 1, 7, 10, 21, 27, 33, 35, 36, 37, 46]\n"
       ]
      }
     ],
     "prompt_number": 329
    },
    {
     "cell_type": "code",
     "collapsed": false,
     "input": [],
     "language": "python",
     "metadata": {},
     "outputs": []
    }
   ],
   "metadata": {}
  }
 ]
}