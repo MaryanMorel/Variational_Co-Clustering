{
 "metadata": {
  "name": "",
  "signature": "sha256:32ac11630e41748c11e332611410ac6f1aba682034befe32fcfdfa120f035521"
 },
 "nbformat": 3,
 "nbformat_minor": 0,
 "worksheets": [
  {
   "cells": [
    {
     "cell_type": "code",
     "collapsed": false,
     "input": [
      "import MatrixGenerator as mg\n",
      "import numpy as np\n",
      "from sklearn.preprocessing import LabelBinarizer\n",
      "import class_coclustering as CC\n",
      "import imp\n",
      "from scipy.sparse import coo_matrix\n",
      "import matplotlib.pyplot as plt\n",
      "\n",
      "import numpy as np\n",
      "from sklearn.cluster import KMeans\n",
      "\n",
      "def plot_coo_matrix(m, size, m_size):\n",
      "    if not isinstance(m, coo_matrix):\n",
      "        m = coo_matrix(m)\n",
      "    fig = plt.figure(figsize=size)\n",
      "    ax = fig.add_subplot(111, axisbg='lightgray')\n",
      "    ax.plot(m.col, m.row, 's', color='black', ms=m_size)\n",
      "    ax.set_xlim(0, m.shape[1])\n",
      "    ax.set_ylim(0, m.shape[0])\n",
      "    ax.set_aspect('equal')\n",
      "    for spine in ax.spines.values():\n",
      "        spine.set_visible(False)\n",
      "    ax.invert_yaxis()\n",
      "    ax.set_aspect('equal')\n",
      "    ax.set_xticks([])\n",
      "    ax.set_yticks([])\n",
      "    return (fig,ax)"
     ],
     "language": "python",
     "metadata": {},
     "outputs": [],
     "prompt_number": 70
    },
    {
     "cell_type": "code",
     "collapsed": false,
     "input": [
      "mg = imp.reload(mg)\n",
      "import matplotlib.pyplot as plt\n",
      "%matplotlib inline\n",
      "\n",
      "nrows = 50 \n",
      "ncols = 16\n",
      "nC = 4\n",
      "nD = 3\n",
      "\n",
      "(C_true,D_true,data) = mg.sampleMatrix(nrows, ncols, nC, nD, random_state=3)\n",
      "\n",
      "C_true = [np.sort(item) for item in C_true]\n",
      "D_true = [np.sort(item) for item in D_true]\n",
      "\n",
      "C_true.sort(key=lambda t: len(t), reverse=True)\n",
      "D_true.sort(key=lambda t: len(t), reverse=True)\n",
      "\n",
      "C_index = [item for sublist in C_true for item in sublist]\n",
      "D_index = [item for sublist in D_true for item in sublist]\n",
      "ordered_data = data[C_index,:]\n",
      "ordered_data = ordered_data[:, D_index]\n",
      "\n",
      "#plt.pcolor(data)\n",
      "#plt.show()\n",
      "#plt.pcolor(ordered_data)\n",
      "#plt.show()\n",
      "(fig, ax) = plot_coo_matrix(data.T, (8,6), 3)\n",
      "ax.set_title(\"Original Data\")\n",
      "ax.set_xlabel('users')\n",
      "ax.set_ylabel('items')\n",
      "#plt.show(ax)\n",
      "plt.savefig('./figures/synData.pdf', bbox_inches='tight')\n",
      "(fig, ax) = plot_coo_matrix(ordered_data.T, (8,6), 3)\n",
      "ax.set_title(\"Original data sorted according to true clusters\")\n",
      "ax.set_xlabel('users')\n",
      "ax.set_ylabel('items')\n",
      "#plt.show(ax)\n",
      "plt.savefig('./figures/synSortedData.pdf', bbox_inches='tight')"
     ],
     "language": "python",
     "metadata": {},
     "outputs": [
      {
       "metadata": {},
       "output_type": "display_data",
       "png": "[encoded data removed]",
       "text": [
        "<matplotlib.figure.Figure at 0x10b45b9b0>"
       ]
      },
      {
       "metadata": {},
       "output_type": "display_data",
       "png": "[encoded data removed]",
       "text": [
        "<matplotlib.figure.Figure at 0x10b83f278>"
       ]
      }
     ],
     "prompt_number": 71
    },
    {
     "cell_type": "code",
     "collapsed": false,
     "input": [
      "CC = imp.reload(CC)\n",
      "clf = CC.coClusteringAdjacency(data=data, K=nC, L=nD, maxIter=1000, tol=1e-10, random_state=5) #5\n",
      "clf.fit()\n",
      "print(clf.getLikelihood())\n",
      "C_pred, D_pred = clf.getClusters()"
     ],
     "language": "python",
     "metadata": {},
     "outputs": [
      {
       "output_type": "stream",
       "stream": "stdout",
       "text": [
        "The algorithm has converged in 96 iterations\n",
        "8.63187884043\n"
       ]
      }
     ],
     "prompt_number": 72
    },
    {
     "cell_type": "code",
     "collapsed": false,
     "input": [
      "resMat = np.zeros((clf.N, clf.M))\n",
      "C_pred, D_pred = clf.getClusters()\n",
      "C_true.sort(key=lambda t: len(t), reverse=True)\n",
      "D_true.sort(key=lambda t: len(t), reverse=True)\n",
      "C_pred = [np.sort(np.where(C_pred == i)[0]) for i in np.unique(C_pred)]\n",
      "D_pred = [np.sort(np.where(D_pred == i)[0]) for i in np.unique(D_pred)]\n",
      "#for i, a in enumerate(clf.getClusterAssociation()[0]):\n",
      "for i, a in enumerate(np.array([2, 1, 0])):   \n",
      "    try:\n",
      "        for x in C_pred[i]:\n",
      "            for y in D_pred[a]:\n",
      "                resMat[x,y] = 1\n",
      "    except:\n",
      "        e = 1"
     ],
     "language": "python",
     "metadata": {},
     "outputs": [],
     "prompt_number": 73
    },
    {
     "cell_type": "code",
     "collapsed": false,
     "input": [
      "#plt.pcolor(data)\n",
      "#plt.show()\n",
      "#plt.pcolor(resMat)\n",
      "#plt.show()\n",
      "\n",
      "(fig, ax) = plot_coo_matrix(data.T, (8,6), 3)\n",
      "ax.set_title(\"Original Data\")\n",
      "ax.set_xlabel('users')\n",
      "ax.set_ylabel('items')\n",
      "#plt.show(ax)\n",
      "(fig, ax) = plot_coo_matrix(resMat.T, (8,6), 3)\n",
      "ax.set_title(\"Predicted Data\")\n",
      "ax.set_xlabel('users')\n",
      "ax.set_ylabel('items')\n",
      "#plt.show(ax)\n",
      "plt.savefig('./figures/synPredictedData.pdf', bbox_inches='tight')"
     ],
     "language": "python",
     "metadata": {},
     "outputs": [
      {
       "metadata": {},
       "output_type": "display_data",
       "png": "[encoded data removed]",
       "text": [
        "<matplotlib.figure.Figure at 0x10b3d9438>"
       ]
      },
      {
       "metadata": {},
       "output_type": "display_data",
       "png": "[encoded data removed]",
       "text": [
        "<matplotlib.figure.Figure at 0x10b3d9588>"
       ]
      }
     ],
     "prompt_number": 74
    },
    {
     "cell_type": "code",
     "collapsed": false,
     "input": [
      "C_pred.sort(key=lambda t: len(t), reverse=True)\n",
      "D_pred.sort(key=lambda t: len(t), reverse=True)\n",
      "C_index_pred = [item for sublist in C_pred for item in sublist]\n",
      "D_index_pred = [item for sublist in D_pred for item in sublist]"
     ],
     "language": "python",
     "metadata": {},
     "outputs": [],
     "prompt_number": 75
    },
    {
     "cell_type": "code",
     "collapsed": false,
     "input": [
      "ordered_pred = data[C_index_pred,:]\n",
      "ordered_pred = ordered_pred[:, D_index_pred]\n",
      "\n",
      "#plt.pcolor(ordered_data)\n",
      "#plt.show()\n",
      "#plt.pcolor(ordered_pred)\n",
      "#plt.show()\n",
      "\n",
      "\n",
      "(fig, ax) = plot_coo_matrix(ordered_data.T, (8,6), 3)\n",
      "ax.set_title(\"Original data sorted according to true clusters\")\n",
      "ax.set_xlabel('users')\n",
      "ax.set_ylabel('items')\n",
      "#plt.show(ax)\n",
      "(fig, ax) = plot_coo_matrix(ordered_pred.T, (8,6), 3)\n",
      "ax.set_title(\"Original Data sorted according to predicted clusters\")\n",
      "ax.set_xlabel('users')\n",
      "ax.set_ylabel('items')\n",
      "#plt.show(ax)\n",
      "plt.savefig('./figures/synSortedData_predictedClusters.pdf', bbox_inches='tight')"
     ],
     "language": "python",
     "metadata": {},
     "outputs": [
      {
       "metadata": {},
       "output_type": "display_data",
       "png": "[encoded data removed]",
       "text": [
        "<matplotlib.figure.Figure at 0x10be5a668>"
       ]
      },
      {
       "metadata": {},
       "output_type": "display_data",
       "png": "[encoded data removed]",
       "text": [
        "<matplotlib.figure.Figure at 0x10ba01978>"
       ]
      }
     ],
     "prompt_number": 76
    },
    {
     "cell_type": "code",
     "collapsed": false,
     "input": [
      "ordered_pred = resMat[C_index_pred,:]\n",
      "ordered_pred = ordered_pred[:, D_index_pred]\n",
      "\n",
      "\n",
      "(fig, ax) = plot_coo_matrix(ordered_data.T, (8,6), 3)\n",
      "ax.set_title(\"Original data sorted according to true clusters\")\n",
      "ax.set_xlabel('users')\n",
      "ax.set_ylabel('items')\n",
      "#plt.show(ax)\n",
      "(fig, ax) = plot_coo_matrix(ordered_pred.T, (8,6), 3)\n",
      "ax.set_title(\"Predicted Data sorted according to predicted clusters\")\n",
      "ax.set_xlabel('users')\n",
      "ax.set_ylabel('items')\n",
      "#plt.show(ax)\n",
      "plt.savefig('./figures/synPredictedData_predictedClusters.pdf', bbox_inches='tight')"
     ],
     "language": "python",
     "metadata": {},
     "outputs": [
      {
       "metadata": {},
       "output_type": "display_data",
       "png": "[encoded data removed]",
       "text": [
        "<matplotlib.figure.Figure at 0x10b6434a8>"
       ]
      },
      {
       "metadata": {},
       "output_type": "display_data",
       "png": "[encoded data removed]",
       "text": [
        "<matplotlib.figure.Figure at 0x10b732a20>"
       ]
      }
     ],
     "prompt_number": 77
    },
    {
     "cell_type": "code",
     "collapsed": false,
     "input": [],
     "language": "python",
     "metadata": {},
     "outputs": [],
     "prompt_number": 30
    },
    {
     "cell_type": "code",
     "collapsed": false,
     "input": [],
     "language": "python",
     "metadata": {},
     "outputs": []
    }
   ],
   "metadata": {}
  }
 ]
}